{
  "nbformat": 4,
  "nbformat_minor": 0,
  "metadata": {
    "colab": {
      "provenance": [],
      "authorship_tag": "ABX9TyNZfSAHViW8OKMmUggilRH6",
      "include_colab_link": true
    },
    "kernelspec": {
      "name": "python3",
      "display_name": "Python 3"
    },
    "language_info": {
      "name": "python"
    }
  },
  "cells": [
    {
      "cell_type": "markdown",
      "metadata": {
        "id": "view-in-github",
        "colab_type": "text"
      },
      "source": [
        "<a href=\"https://colab.research.google.com/github/Clinda02/financial_data_analysis/blob/main/Finance_news_scarp.ipynb\" target=\"_parent\"><img src=\"https://colab.research.google.com/assets/colab-badge.svg\" alt=\"Open In Colab\"/></a>"
      ]
    },
    {
      "cell_type": "markdown",
      "source": [
        "# 개요\n",
        "* 네이버 증권의 `뉴스` 탭의 최신 10일치 기사를 수집하여 데이터 프레임으로 생성, 데이터프레임을 `article.csv` 로 저장\n",
        "* 사이트 주소 : https://finance.naver.com/news/mainnews.naver?date=2024-10-25\n",
        "\n",
        "\n",
        "-----\n",
        "\n",
        "**네이버 증권 뉴스 탭**\n",
        "* 날짜별로 페이지가 구분되어 있고, 날짜를 변경할 경우, URL의 date의 속성값 변경\n",
        "  * `https://finance.naver.com/news/mainnews.naver?date=2024-10-25`\n",
        "\n",
        "* 각 날짜에는 페이지네이션으로 페이지가 변경됨\n",
        "  * `https://financenaver.com/news/mainnews.naver?date=2024-10-25&page=3`\n",
        "* 페이지네이션은 고려하지 않고, 첫 페이지에 있는 데이터만 수집\n",
        "\n",
        "**데이터 프레임 구조**\n",
        "* `기사제목, 본문URL, 기사본문, 날짜` 4개 칼럼으로 구성"
      ],
      "metadata": {
        "id": "PhOqk0jBmzY9"
      }
    },
    {
      "cell_type": "markdown",
      "source": [
        "# 신문기사 HTML 불러오기"
      ],
      "metadata": {
        "id": "8eckhCt7onWO"
      }
    },
    {
      "cell_type": "code",
      "execution_count": 1,
      "metadata": {
        "id": "4mbhX-iomuuQ"
      },
      "outputs": [],
      "source": [
        "from bs4 import BeautifulSoup\n",
        "import requests\n",
        "import pandas as pd\n",
        "\n",
        "# 뉴스 스크랩\n",
        "url = \"https://finance.naver.com/news/mainnews.naver?date=2024-10-31\"\n",
        "response = requests.get(url)\n",
        "\n",
        "soup = BeautifulSoup(response.text, 'lxml')"
      ]
    },
    {
      "cell_type": "markdown",
      "source": [
        "- 데이터 프레임 구조\n",
        "\n",
        "  - **기사제목**:  `<dd class=\"articleSubject\">`안에 텍스트\n",
        "  - **본문 URL**: `<dd class=\"articleSubject\">` 안에 `<a>` 태그\n",
        "  - **기사 본문**: `<div id=\"newsct_article\" class=\"newsct_article _article_body\">`\n",
        "  - **날짜**: URL에서 가져오기"
      ],
      "metadata": {
        "id": "ujf7ayg6p5Th"
      }
    },
    {
      "cell_type": "code",
      "source": [
        "# 기사제목 리스트 가져오기\n",
        "titles = soup.find_all('dd', {'class':'articleSubject'})\n",
        "titles[0]"
      ],
      "metadata": {
        "colab": {
          "base_uri": "https://localhost:8080/"
        },
        "id": "T88mWx0Prvns",
        "outputId": "93f15acc-db32-4a4b-b70a-cf454e8d71c5"
      },
      "execution_count": 2,
      "outputs": [
        {
          "output_type": "execute_result",
          "data": {
            "text/plain": [
              "<dd class=\"articleSubject\">\n",
              "<a href=\"/news/news_read.naver?article_id=0005873734&amp;office_id=018&amp;mode=mainnews&amp;type=&amp;date=2024-10-31&amp;page=1\">공개매수 하면서 유증 계획 숨겼나…‘고의누락’ 의혹 휩싸인 고려아연[마켓인]</a>\n",
              "</dd>"
            ]
          },
          "metadata": {},
          "execution_count": 2
        }
      ]
    },
    {
      "cell_type": "code",
      "source": [
        "titles[0].text.strip()"
      ],
      "metadata": {
        "colab": {
          "base_uri": "https://localhost:8080/",
          "height": 35
        },
        "id": "OQnBQcDxrvkd",
        "outputId": "864e6b6d-71cb-4978-dfc4-e644f238fd82"
      },
      "execution_count": 3,
      "outputs": [
        {
          "output_type": "execute_result",
          "data": {
            "text/plain": [
              "'공개매수 하면서 유증 계획 숨겼나…‘고의누락’ 의혹 휩싸인 고려아연[마켓인]'"
            ],
            "application/vnd.google.colaboratory.intrinsic+json": {
              "type": "string"
            }
          },
          "metadata": {},
          "execution_count": 3
        }
      ]
    },
    {
      "cell_type": "markdown",
      "source": [
        "# 상세 뉴스 본문 읽어오기"
      ],
      "metadata": {
        "id": "bh8n617or9yN"
      }
    },
    {
      "cell_type": "markdown",
      "source": [
        "## 상세 뉴스 URL 읽어오기"
      ],
      "metadata": {
        "id": "9qNZEmTVsDIs"
      }
    },
    {
      "cell_type": "code",
      "source": [
        "# 첫번째 기사의 상세페이지 URL\n",
        "titles[0].find('a').get('href')"
      ],
      "metadata": {
        "colab": {
          "base_uri": "https://localhost:8080/",
          "height": 35
        },
        "id": "0yjk9qbMrvhG",
        "outputId": "7bacc6a8-1842-4342-8606-2fd547192be6"
      },
      "execution_count": 4,
      "outputs": [
        {
          "output_type": "execute_result",
          "data": {
            "text/plain": [
              "'/news/news_read.naver?article_id=0005873734&office_id=018&mode=mainnews&type=&date=2024-10-31&page=1'"
            ],
            "application/vnd.google.colaboratory.intrinsic+json": {
              "type": "string"
            }
          },
          "metadata": {},
          "execution_count": 4
        }
      ]
    },
    {
      "cell_type": "code",
      "source": [
        "news_url = 'https://finance.naver.com' + titles[0].find('a').get('href')\n",
        "news_url"
      ],
      "metadata": {
        "colab": {
          "base_uri": "https://localhost:8080/",
          "height": 35
        },
        "id": "_b91PvlzrvbW",
        "outputId": "2ac30d15-301a-4060-ef43-5a95a242b639"
      },
      "execution_count": 5,
      "outputs": [
        {
          "output_type": "execute_result",
          "data": {
            "text/plain": [
              "'https://finance.naver.com/news/news_read.naver?article_id=0005873734&office_id=018&mode=mainnews&type=&date=2024-10-31&page=1'"
            ],
            "application/vnd.google.colaboratory.intrinsic+json": {
              "type": "string"
            }
          },
          "metadata": {},
          "execution_count": 5
        }
      ]
    },
    {
      "cell_type": "code",
      "source": [
        "# 상세 뉴스 페이지\n",
        "news_response = requests.get(news_url)\n",
        "news_soup = BeautifulSoup(news_response.text, 'lxml')\n",
        "news_soup"
      ],
      "metadata": {
        "colab": {
          "base_uri": "https://localhost:8080/"
        },
        "id": "qJs6I_L-rvWy",
        "outputId": "b089ecc5-97bd-4283-e6bd-378414e56886"
      },
      "execution_count": 6,
      "outputs": [
        {
          "output_type": "execute_result",
          "data": {
            "text/plain": [
              "<html><head><script>top.location.href='https://n.news.naver.com/mnews/article/018/0005873734';</script>\n",
              "</head></html>"
            ]
          },
          "metadata": {},
          "execution_count": 6
        }
      ]
    },
    {
      "cell_type": "markdown",
      "source": [
        "redirect 주소를 반환하고 있으므로, redirecet 주소를 사용하여 다시 상세 뉴스 페이지에 접근"
      ],
      "metadata": {
        "id": "GPmkIzOj9ImR"
      }
    },
    {
      "cell_type": "code",
      "source": [
        "news_url2 = news_soup.find('script').text.split(\"'\")[1]"
      ],
      "metadata": {
        "id": "UtBmzPO99JVI"
      },
      "execution_count": 7,
      "outputs": []
    },
    {
      "cell_type": "markdown",
      "source": [
        "## 상세 뉴스 페이지 읽어오기"
      ],
      "metadata": {
        "id": "RqLbow-S9oZI"
      }
    },
    {
      "cell_type": "code",
      "source": [
        "# 상세 뉴스페이지 재호출\n",
        "news_response2 = requests.get(news_url2)\n",
        "\n",
        "news_soup = BeautifulSoup(news_response2.text, 'lxml')"
      ],
      "metadata": {
        "collapsed": true,
        "id": "paLAZhcS9s1Q"
      },
      "execution_count": 8,
      "outputs": []
    },
    {
      "cell_type": "markdown",
      "source": [
        "## 상세 뉴스페이지 본문 파싱하기"
      ],
      "metadata": {
        "id": "KDdnDxab_Wnl"
      }
    },
    {
      "cell_type": "code",
      "source": [
        "# 뉴스 본문\n",
        "# 기사 본문: <div id=\"newsct_article\" class=\"newsct_article _article_body\">\n",
        "news_soup.find('div',{'class', 'newsct_article _article_body'}).text.strip()"
      ],
      "metadata": {
        "colab": {
          "base_uri": "https://localhost:8080/",
          "height": 256
        },
        "id": "S1SPBBkOrvTH",
        "outputId": "9d534969-cee2-4a92-c15c-633ec27d2857"
      },
      "execution_count": 9,
      "outputs": [
        {
          "output_type": "execute_result",
          "data": {
            "text/plain": [
              "'금감원, ‘위계 활용 부정거래’ 가능성 제기공개매수 주관사 미래에셋도 검사 착수향후 10일 내 공시 정정 여부 결정유상증자 철회·발행가액 정정 가능성\\n\\n\\n\\n최윤범 고려아연 회장이 기자회견에서 발언하고 있다 (사진=연합뉴스)[이데일리 마켓in 허지은 기자] 2조5000억원 규모 유상증자를 결의한 고려아연이 ‘고의 누락’ 의혹에 휩싸였다. 앞서 진행된 자사주 공개매수 기간과 유상증자 검토 기간이 겹치면서다. 고려아연의 공개매수와 유상증자 주관 업무를 모두 맡은 미래에셋증권과, 이사회에서 해당 안건을 결의한 이사진들이 이를 알고도 숨겼다면 중대한 사항의 누락, 나아가 위계 활용 부정거래 소지가 있다고 금융당국은 판단했다. 함용일 금융감독원 부원장은 31일 진행한 긴급 브리핑에서 “고려아연의 불공정거래 조사와 관련해 부정거래 행위 등을 조사하고 있다”며 “고려아연의 재무 계획상 공개매수와 유상증자 두 가지 사실을 다 알고 하나씩 내보이는 것은 (중대한 사항을) 누락하는 것이다. 고려아연 증자의 목적, 배경, 회사와 기존 주주에 미치는 영향, 증자가 주주가치 제고에 부합되는지 여부 등을 철저히 심사할 것”이라고 밝혔다. 금감원에 따르면 고려아연이 전날 발표한 유상증자 결정은 지난 14일부터 29일까지 주관사 미래에셋증권의 기업실사 후 이사회 결의를 통해 확정됐다. 14일은 MBK·영풍 연합이 공개매수를 마감한 날이다. 앞서 고려아연은 지난 2일부터 23일까지 자사주 공개매수를 진행했는데, 해당 기간과 유상증자를 위한 기업실사 기간이 겹친다. 금감원은 고려아연이 공개매수 기간 동안 유상증자를 계획했으면서 이를 알리지 않은 경우 중대한 사항을 누락했다고 봤다. 함 부원장은 “이사회가 이를 다 아는 상태에서 순차적으로 진행한 거라면 공개매수 신고서에 중대한 사항이 빠졌거나 허위 위계 부정거래 소지가 다분하다”며 “주주들이 공개매수에 응할지 의사결정할 때 이사들이 대량의 증자 소식을 알았다면 부정거래 행위 등 공개매수 허위 기재 문제점을 따져보지 않을 수 없다”고 강조했다. 금감원은 고려아연 공개매수와 유상증자를 모두 주관한 미래에셋증권에 대한 검사에도 착수했다. 공개매수와 유상증자가 동시에 진행된 과정 등에 있어 법 위반 여부에 대해 점검한다는 방침이다. 만약 미래에셋증권이 이같은 사실을 알고도 방조했다면 자본시장법상 불공정행위에 해당할 수 있다. 공개매수 과정에서 회계 부정 심사 가능성도 제기됐다. 고려아연이 △사업장 중단 등에 따른 충당 부채의 미인식 및 지연 인식했는지 △고가 인수 및 현물 배당받은 국내 투자 주식 관련 손상차손의 과소 인식했는지 여부 등을 심사 중이며, 회계처리 기준 위반 개연성이 높은 다수의 회계처리 사실에 대해선 정식 감리 전환 여부를 논의 중이라고 금감원은 밝혔다. 향후 금감원은 고려아연의 유상증자 결정 공시에 대해 10일간의 검토를 거친 뒤 정정 요구 여부를 결정할 예정이다. 함 부원장은 “고려아연이 (유상증자를) 철회하고 정정도 해나갈 수 있고, 불법행위로 인해서 회사 스스로 문제점을 파악하고 행동할 수도 있을 것”이라고 밝혔다.'"
            ],
            "application/vnd.google.colaboratory.intrinsic+json": {
              "type": "string"
            }
          },
          "metadata": {},
          "execution_count": 9
        }
      ]
    },
    {
      "cell_type": "markdown",
      "source": [
        "# 반복문 사용하여 함수로 생성하기"
      ],
      "metadata": {
        "id": "al0c2DPR_gQ1"
      }
    },
    {
      "cell_type": "code",
      "source": [
        "from bs4 import BeautifulSoup\n",
        "import requests\n",
        "import pandas as pd\n",
        "import datetime\n",
        "import time"
      ],
      "metadata": {
        "id": "-fgB5Z7BX7BB"
      },
      "execution_count": 10,
      "outputs": []
    },
    {
      "cell_type": "code",
      "source": [
        " def get_news_items(html):\n",
        "\n",
        "  # 기사 리스트 가져오기\n",
        "  titles = html.find_all('dd', {'class' :'articleSubject'})\n",
        "\n",
        "  title_list = []\n",
        "  url_list =[]\n",
        "  content_list = []\n",
        "\n",
        "  for t in titles:\n",
        "    # 뉴스 기사 제목\n",
        "    title = t.text.strip()\n",
        "    # print(f\"제목 : {title}\")\n",
        "\n",
        "    # 뉴스 기사의 상세페이지 url\n",
        "    news_url = 'https://finance.naver.com' + t.find('a').get('href')\n",
        "    # print(f\"url : {news_url}\")\n",
        "\n",
        "    # 상세페이지 request\n",
        "    news_response = requests.get(news_url)\n",
        "    news_soup = BeautifulSoup(news_response.text, 'lxml')\n",
        "\n",
        "    # 리다이렉트 주소 파싱\n",
        "    news_url2 = news_soup.find('script').text.split(\"'\")[1]\n",
        "\n",
        "    # 상세페이지 request\n",
        "    news_response2 = requests.get(news_url2)\n",
        "    news_soup = BeautifulSoup(news_response2.text, 'lxml')\n",
        "\n",
        "    # 뉴스 본문\n",
        "    content = news_soup.find('div', {'class':'newsct_article _article_body'}).text.strip()\n",
        "    # print(f\"본문 : {content}\")\n",
        "\n",
        "    # 리스트 값 저장\n",
        "    title_list.append(title)\n",
        "    url_list.append(news_url2)\n",
        "    content_list.append(content)\n",
        "\n",
        "  # 데이터프레임 저장\n",
        "  df = pd.DataFrame({\n",
        "        '기사제목' : title_list,\n",
        "        '본문url' : url_list,\n",
        "        '기사본문' : content_list\n",
        "    })\n",
        "  return df\n"
      ],
      "metadata": {
        "id": "i1OOnSdo_Ytt"
      },
      "execution_count": 11,
      "outputs": []
    },
    {
      "cell_type": "code",
      "source": [
        "news_df = pd.DataFrame()\n",
        "\n",
        "for n in range(10):\n",
        "  # 최근 n일치 데이터 지정\n",
        "  date = datetime.date.today() - datetime.timedelta(days = n)\n",
        "\n",
        "  url = f\"https://finance.naver.com/news/mainnews.naver?date={date}\"\n",
        "  response = requests.get(url)\n",
        "\n",
        "  # 상태 코드 확인\n",
        "  if response.status_code == 200:\n",
        "    print(f\"{date} 페이지 접근 성공\")\n",
        "\n",
        "    soup = BeautifulSoup(response.text, 'lxml')\n",
        "    time.sleep(1)\n",
        "\n",
        "    # 해당일 신문기사 스크랩 데이터프레임 반환\n",
        "    temp_df = get_news_items(soup)\n",
        "    temp_df['date']= date\n",
        "    news_df = pd.concat([news_df, temp_df], ignore_index =True).copy()\n",
        "\n",
        "  else :\n",
        "    print(f\"{date} 페이지 접근 실패 - 상태코드 : {response.status_code}\")"
      ],
      "metadata": {
        "id": "gZUnX9SBEUC3",
        "colab": {
          "base_uri": "https://localhost:8080/"
        },
        "outputId": "a3396118-3554-41d7-df96-0f3d693df253"
      },
      "execution_count": 21,
      "outputs": [
        {
          "output_type": "stream",
          "name": "stdout",
          "text": [
            "2024-10-31 페이지 접근 성공\n",
            "2024-10-30 페이지 접근 성공\n",
            "2024-10-29 페이지 접근 성공\n",
            "2024-10-28 페이지 접근 성공\n",
            "2024-10-27 페이지 접근 성공\n",
            "2024-10-26 페이지 접근 성공\n",
            "2024-10-25 페이지 접근 성공\n",
            "2024-10-24 페이지 접근 성공\n",
            "2024-10-23 페이지 접근 성공\n",
            "2024-10-22 페이지 접근 성공\n"
          ]
        }
      ]
    },
    {
      "cell_type": "code",
      "source": [
        "news_df.info()"
      ],
      "metadata": {
        "colab": {
          "base_uri": "https://localhost:8080/"
        },
        "id": "Pis5lVmKTqMG",
        "outputId": "5127084c-028f-4efc-8bdb-d600761db44f"
      },
      "execution_count": 22,
      "outputs": [
        {
          "output_type": "stream",
          "name": "stdout",
          "text": [
            "<class 'pandas.core.frame.DataFrame'>\n",
            "RangeIndex: 200 entries, 0 to 199\n",
            "Data columns (total 4 columns):\n",
            " #   Column  Non-Null Count  Dtype \n",
            "---  ------  --------------  ----- \n",
            " 0   기사제목    200 non-null    object\n",
            " 1   본문url   200 non-null    object\n",
            " 2   기사본문    200 non-null    object\n",
            " 3   date    200 non-null    object\n",
            "dtypes: object(4)\n",
            "memory usage: 6.4+ KB\n"
          ]
        }
      ]
    },
    {
      "cell_type": "code",
      "source": [
        "news_df.head()"
      ],
      "metadata": {
        "colab": {
          "base_uri": "https://localhost:8080/",
          "height": 345
        },
        "id": "TsuaZG_OrvOf",
        "outputId": "edc3e726-9fdc-4a14-8853-1c471879b20f"
      },
      "execution_count": 23,
      "outputs": [
        {
          "output_type": "execute_result",
          "data": {
            "text/plain": [
              "                                         기사제목  \\\n",
              "0                      악재만 남은 국장…개미 탈출 더 빨라지나   \n",
              "1           유증 실망감에 등돌린 소액주주…행동주의 펀드와 연대 움직임도   \n",
              "2          고려아연 '임시주총 소집' 거부에…국민연금 수책위도 늦어질 듯   \n",
              "3           美 반도체주 찬바람에 빛 못본 삼성전자…하이닉스 4%대 급락   \n",
              "4  공개매수 하면서 유증 계획 숨겼나…‘고의누락’ 의혹 휩싸인 고려아연[마켓인]   \n",
              "\n",
              "                                               본문url  \\\n",
              "0  https://n.news.naver.com/mnews/article/011/000...   \n",
              "1  https://n.news.naver.com/mnews/article/011/000...   \n",
              "2  https://n.news.naver.com/mnews/article/018/000...   \n",
              "3  https://n.news.naver.com/mnews/article/029/000...   \n",
              "4  https://n.news.naver.com/mnews/article/018/000...   \n",
              "\n",
              "                                                기사본문        date  \n",
              "0  예탁금 49.5조로 연중 최저\\n\\n\\n\\n31일 오전 서울 중구 하나은행 본점 딜...  2024-10-31  \n",
              "1  행동주의펀드, 소액주 규합 못해경영권 개입 번번이 실패했지만유증사태가 결집 강화 계...  2024-10-31  \n",
              "2  고려아연, MBK·영풍 측 임시주총 소집 청구 '거부'임시주총 열려면 법원 허가 받...  2024-10-31  \n",
              "3  [픽사베이 제공]    최근 미국 빅테크 기업들이 엇갈린 실적 결과를 발표한 가운데...  2024-10-31  \n",
              "4  금감원, ‘위계 활용 부정거래’ 가능성 제기공개매수 주관사 미래에셋도 검사 착수향후...  2024-10-31  "
            ],
            "text/html": [
              "\n",
              "  <div id=\"df-f9319700-da97-475d-aa69-f11c887c24df\" class=\"colab-df-container\">\n",
              "    <div>\n",
              "<style scoped>\n",
              "    .dataframe tbody tr th:only-of-type {\n",
              "        vertical-align: middle;\n",
              "    }\n",
              "\n",
              "    .dataframe tbody tr th {\n",
              "        vertical-align: top;\n",
              "    }\n",
              "\n",
              "    .dataframe thead th {\n",
              "        text-align: right;\n",
              "    }\n",
              "</style>\n",
              "<table border=\"1\" class=\"dataframe\">\n",
              "  <thead>\n",
              "    <tr style=\"text-align: right;\">\n",
              "      <th></th>\n",
              "      <th>기사제목</th>\n",
              "      <th>본문url</th>\n",
              "      <th>기사본문</th>\n",
              "      <th>date</th>\n",
              "    </tr>\n",
              "  </thead>\n",
              "  <tbody>\n",
              "    <tr>\n",
              "      <th>0</th>\n",
              "      <td>악재만 남은 국장…개미 탈출 더 빨라지나</td>\n",
              "      <td>https://n.news.naver.com/mnews/article/011/000...</td>\n",
              "      <td>예탁금 49.5조로 연중 최저\\n\\n\\n\\n31일 오전 서울 중구 하나은행 본점 딜...</td>\n",
              "      <td>2024-10-31</td>\n",
              "    </tr>\n",
              "    <tr>\n",
              "      <th>1</th>\n",
              "      <td>유증 실망감에 등돌린 소액주주…행동주의 펀드와 연대 움직임도</td>\n",
              "      <td>https://n.news.naver.com/mnews/article/011/000...</td>\n",
              "      <td>행동주의펀드, 소액주 규합 못해경영권 개입 번번이 실패했지만유증사태가 결집 강화 계...</td>\n",
              "      <td>2024-10-31</td>\n",
              "    </tr>\n",
              "    <tr>\n",
              "      <th>2</th>\n",
              "      <td>고려아연 '임시주총 소집' 거부에…국민연금 수책위도 늦어질 듯</td>\n",
              "      <td>https://n.news.naver.com/mnews/article/018/000...</td>\n",
              "      <td>고려아연, MBK·영풍 측 임시주총 소집 청구 '거부'임시주총 열려면 법원 허가 받...</td>\n",
              "      <td>2024-10-31</td>\n",
              "    </tr>\n",
              "    <tr>\n",
              "      <th>3</th>\n",
              "      <td>美 반도체주 찬바람에 빛 못본 삼성전자…하이닉스 4%대 급락</td>\n",
              "      <td>https://n.news.naver.com/mnews/article/029/000...</td>\n",
              "      <td>[픽사베이 제공]    최근 미국 빅테크 기업들이 엇갈린 실적 결과를 발표한 가운데...</td>\n",
              "      <td>2024-10-31</td>\n",
              "    </tr>\n",
              "    <tr>\n",
              "      <th>4</th>\n",
              "      <td>공개매수 하면서 유증 계획 숨겼나…‘고의누락’ 의혹 휩싸인 고려아연[마켓인]</td>\n",
              "      <td>https://n.news.naver.com/mnews/article/018/000...</td>\n",
              "      <td>금감원, ‘위계 활용 부정거래’ 가능성 제기공개매수 주관사 미래에셋도 검사 착수향후...</td>\n",
              "      <td>2024-10-31</td>\n",
              "    </tr>\n",
              "  </tbody>\n",
              "</table>\n",
              "</div>\n",
              "    <div class=\"colab-df-buttons\">\n",
              "\n",
              "  <div class=\"colab-df-container\">\n",
              "    <button class=\"colab-df-convert\" onclick=\"convertToInteractive('df-f9319700-da97-475d-aa69-f11c887c24df')\"\n",
              "            title=\"Convert this dataframe to an interactive table.\"\n",
              "            style=\"display:none;\">\n",
              "\n",
              "  <svg xmlns=\"http://www.w3.org/2000/svg\" height=\"24px\" viewBox=\"0 -960 960 960\">\n",
              "    <path d=\"M120-120v-720h720v720H120Zm60-500h600v-160H180v160Zm220 220h160v-160H400v160Zm0 220h160v-160H400v160ZM180-400h160v-160H180v160Zm440 0h160v-160H620v160ZM180-180h160v-160H180v160Zm440 0h160v-160H620v160Z\"/>\n",
              "  </svg>\n",
              "    </button>\n",
              "\n",
              "  <style>\n",
              "    .colab-df-container {\n",
              "      display:flex;\n",
              "      gap: 12px;\n",
              "    }\n",
              "\n",
              "    .colab-df-convert {\n",
              "      background-color: #E8F0FE;\n",
              "      border: none;\n",
              "      border-radius: 50%;\n",
              "      cursor: pointer;\n",
              "      display: none;\n",
              "      fill: #1967D2;\n",
              "      height: 32px;\n",
              "      padding: 0 0 0 0;\n",
              "      width: 32px;\n",
              "    }\n",
              "\n",
              "    .colab-df-convert:hover {\n",
              "      background-color: #E2EBFA;\n",
              "      box-shadow: 0px 1px 2px rgba(60, 64, 67, 0.3), 0px 1px 3px 1px rgba(60, 64, 67, 0.15);\n",
              "      fill: #174EA6;\n",
              "    }\n",
              "\n",
              "    .colab-df-buttons div {\n",
              "      margin-bottom: 4px;\n",
              "    }\n",
              "\n",
              "    [theme=dark] .colab-df-convert {\n",
              "      background-color: #3B4455;\n",
              "      fill: #D2E3FC;\n",
              "    }\n",
              "\n",
              "    [theme=dark] .colab-df-convert:hover {\n",
              "      background-color: #434B5C;\n",
              "      box-shadow: 0px 1px 3px 1px rgba(0, 0, 0, 0.15);\n",
              "      filter: drop-shadow(0px 1px 2px rgba(0, 0, 0, 0.3));\n",
              "      fill: #FFFFFF;\n",
              "    }\n",
              "  </style>\n",
              "\n",
              "    <script>\n",
              "      const buttonEl =\n",
              "        document.querySelector('#df-f9319700-da97-475d-aa69-f11c887c24df button.colab-df-convert');\n",
              "      buttonEl.style.display =\n",
              "        google.colab.kernel.accessAllowed ? 'block' : 'none';\n",
              "\n",
              "      async function convertToInteractive(key) {\n",
              "        const element = document.querySelector('#df-f9319700-da97-475d-aa69-f11c887c24df');\n",
              "        const dataTable =\n",
              "          await google.colab.kernel.invokeFunction('convertToInteractive',\n",
              "                                                    [key], {});\n",
              "        if (!dataTable) return;\n",
              "\n",
              "        const docLinkHtml = 'Like what you see? Visit the ' +\n",
              "          '<a target=\"_blank\" href=https://colab.research.google.com/notebooks/data_table.ipynb>data table notebook</a>'\n",
              "          + ' to learn more about interactive tables.';\n",
              "        element.innerHTML = '';\n",
              "        dataTable['output_type'] = 'display_data';\n",
              "        await google.colab.output.renderOutput(dataTable, element);\n",
              "        const docLink = document.createElement('div');\n",
              "        docLink.innerHTML = docLinkHtml;\n",
              "        element.appendChild(docLink);\n",
              "      }\n",
              "    </script>\n",
              "  </div>\n",
              "\n",
              "\n",
              "<div id=\"df-c2311dfe-be36-42ce-a294-3a6f706c7ae9\">\n",
              "  <button class=\"colab-df-quickchart\" onclick=\"quickchart('df-c2311dfe-be36-42ce-a294-3a6f706c7ae9')\"\n",
              "            title=\"Suggest charts\"\n",
              "            style=\"display:none;\">\n",
              "\n",
              "<svg xmlns=\"http://www.w3.org/2000/svg\" height=\"24px\"viewBox=\"0 0 24 24\"\n",
              "     width=\"24px\">\n",
              "    <g>\n",
              "        <path d=\"M19 3H5c-1.1 0-2 .9-2 2v14c0 1.1.9 2 2 2h14c1.1 0 2-.9 2-2V5c0-1.1-.9-2-2-2zM9 17H7v-7h2v7zm4 0h-2V7h2v10zm4 0h-2v-4h2v4z\"/>\n",
              "    </g>\n",
              "</svg>\n",
              "  </button>\n",
              "\n",
              "<style>\n",
              "  .colab-df-quickchart {\n",
              "      --bg-color: #E8F0FE;\n",
              "      --fill-color: #1967D2;\n",
              "      --hover-bg-color: #E2EBFA;\n",
              "      --hover-fill-color: #174EA6;\n",
              "      --disabled-fill-color: #AAA;\n",
              "      --disabled-bg-color: #DDD;\n",
              "  }\n",
              "\n",
              "  [theme=dark] .colab-df-quickchart {\n",
              "      --bg-color: #3B4455;\n",
              "      --fill-color: #D2E3FC;\n",
              "      --hover-bg-color: #434B5C;\n",
              "      --hover-fill-color: #FFFFFF;\n",
              "      --disabled-bg-color: #3B4455;\n",
              "      --disabled-fill-color: #666;\n",
              "  }\n",
              "\n",
              "  .colab-df-quickchart {\n",
              "    background-color: var(--bg-color);\n",
              "    border: none;\n",
              "    border-radius: 50%;\n",
              "    cursor: pointer;\n",
              "    display: none;\n",
              "    fill: var(--fill-color);\n",
              "    height: 32px;\n",
              "    padding: 0;\n",
              "    width: 32px;\n",
              "  }\n",
              "\n",
              "  .colab-df-quickchart:hover {\n",
              "    background-color: var(--hover-bg-color);\n",
              "    box-shadow: 0 1px 2px rgba(60, 64, 67, 0.3), 0 1px 3px 1px rgba(60, 64, 67, 0.15);\n",
              "    fill: var(--button-hover-fill-color);\n",
              "  }\n",
              "\n",
              "  .colab-df-quickchart-complete:disabled,\n",
              "  .colab-df-quickchart-complete:disabled:hover {\n",
              "    background-color: var(--disabled-bg-color);\n",
              "    fill: var(--disabled-fill-color);\n",
              "    box-shadow: none;\n",
              "  }\n",
              "\n",
              "  .colab-df-spinner {\n",
              "    border: 2px solid var(--fill-color);\n",
              "    border-color: transparent;\n",
              "    border-bottom-color: var(--fill-color);\n",
              "    animation:\n",
              "      spin 1s steps(1) infinite;\n",
              "  }\n",
              "\n",
              "  @keyframes spin {\n",
              "    0% {\n",
              "      border-color: transparent;\n",
              "      border-bottom-color: var(--fill-color);\n",
              "      border-left-color: var(--fill-color);\n",
              "    }\n",
              "    20% {\n",
              "      border-color: transparent;\n",
              "      border-left-color: var(--fill-color);\n",
              "      border-top-color: var(--fill-color);\n",
              "    }\n",
              "    30% {\n",
              "      border-color: transparent;\n",
              "      border-left-color: var(--fill-color);\n",
              "      border-top-color: var(--fill-color);\n",
              "      border-right-color: var(--fill-color);\n",
              "    }\n",
              "    40% {\n",
              "      border-color: transparent;\n",
              "      border-right-color: var(--fill-color);\n",
              "      border-top-color: var(--fill-color);\n",
              "    }\n",
              "    60% {\n",
              "      border-color: transparent;\n",
              "      border-right-color: var(--fill-color);\n",
              "    }\n",
              "    80% {\n",
              "      border-color: transparent;\n",
              "      border-right-color: var(--fill-color);\n",
              "      border-bottom-color: var(--fill-color);\n",
              "    }\n",
              "    90% {\n",
              "      border-color: transparent;\n",
              "      border-bottom-color: var(--fill-color);\n",
              "    }\n",
              "  }\n",
              "</style>\n",
              "\n",
              "  <script>\n",
              "    async function quickchart(key) {\n",
              "      const quickchartButtonEl =\n",
              "        document.querySelector('#' + key + ' button');\n",
              "      quickchartButtonEl.disabled = true;  // To prevent multiple clicks.\n",
              "      quickchartButtonEl.classList.add('colab-df-spinner');\n",
              "      try {\n",
              "        const charts = await google.colab.kernel.invokeFunction(\n",
              "            'suggestCharts', [key], {});\n",
              "      } catch (error) {\n",
              "        console.error('Error during call to suggestCharts:', error);\n",
              "      }\n",
              "      quickchartButtonEl.classList.remove('colab-df-spinner');\n",
              "      quickchartButtonEl.classList.add('colab-df-quickchart-complete');\n",
              "    }\n",
              "    (() => {\n",
              "      let quickchartButtonEl =\n",
              "        document.querySelector('#df-c2311dfe-be36-42ce-a294-3a6f706c7ae9 button');\n",
              "      quickchartButtonEl.style.display =\n",
              "        google.colab.kernel.accessAllowed ? 'block' : 'none';\n",
              "    })();\n",
              "  </script>\n",
              "</div>\n",
              "\n",
              "    </div>\n",
              "  </div>\n"
            ],
            "application/vnd.google.colaboratory.intrinsic+json": {
              "type": "dataframe",
              "variable_name": "news_df",
              "summary": "{\n  \"name\": \"news_df\",\n  \"rows\": 200,\n  \"fields\": [\n    {\n      \"column\": \"\\uae30\\uc0ac\\uc81c\\ubaa9\",\n      \"properties\": {\n        \"dtype\": \"string\",\n        \"num_unique_values\": 200,\n        \"samples\": [\n          \"40\\ub300 \\uc8fc\\uc2dd \\ud22c\\uc790\\uc790, \\uc5f0\\ub9d0 \\ucc59\\uaca8\\uc57c \\ud560 \\uc138\\uae08 \\uc804\\ub7b5\\uc740?[\\uc7ac\\ud14c\\ud06c Q&A]\",\n          \"\\ub450\\uc0b0 3\\ubd84\\uae30 \\uc601\\uc5c5\\uc775 1\\ucc9c102\\uc5b5\\u2026\\uc791\\ub144 \\ub300\\ube44 65.5%\\u2193(\\uc885\\ud569)\",\n          \"\\uc5d4\\ube44\\ub514\\uc544\\u00b7\\ud14c\\uc2ac\\ub77c \\ud314\\uace0 \\u7f8e\\ubc30\\ub2f9 ETF \\ub2f4\\ub294 \\uc11c\\ud559\\uac1c\\ubbf8\"\n        ],\n        \"semantic_type\": \"\",\n        \"description\": \"\"\n      }\n    },\n    {\n      \"column\": \"\\ubcf8\\ubb38url\",\n      \"properties\": {\n        \"dtype\": \"string\",\n        \"num_unique_values\": 200,\n        \"samples\": [\n          \"https://n.news.naver.com/mnews/article/014/0005258881\",\n          \"https://n.news.naver.com/mnews/article/001/0015018943\",\n          \"https://n.news.naver.com/mnews/article/014/0005260868\"\n        ],\n        \"semantic_type\": \"\",\n        \"description\": \"\"\n      }\n    },\n    {\n      \"column\": \"\\uae30\\uc0ac\\ubcf8\\ubb38\",\n      \"properties\": {\n        \"dtype\": \"string\",\n        \"num_unique_values\": 200,\n        \"samples\": [\n          \"\\ub300\\ubc15\\ub09c \\ud574\\uc678\\uc8fc\\uc2dd, \\ubc30\\uc6b0\\uc790\\uc99d\\uc5ec \\uc808\\uc138\\ubc95 \\uc62c\\ud574\\uac00 \\ub9c8\\uc9c0\\ub9c9 \\n\\n\\n\\n Q. \\uafb8\\uc900\\ud788 \\uc8fc\\uc2dd \\ud22c\\uc790\\ub97c \\ud574\\uc654\\ub358 40\\ub300 A\\uc528\\ub294 \\uc5f0\\ub9d0\\uc774 \\ub418\\uba74 \\uc138\\uae08 \\uad00\\ub828 \\uc774\\uc288\\ub4e4\\uc744 \\ucc59\\uae30\\ub290\\ub77c \\ub298 \\ubc14\\uc058\\ub2e4. \\uba87 \\ub144\\uc744 \\ud574\\uc628 \\ud130\\ub77c \\uc775\\uc219\\ud574\\uc9c8 \\ubc95\\ub3c4 \\ud55c\\ub370, \\ud639\\uc5ec \\uc2e4\\uc218\\ud560\\uae4c \\ud574\\ub9c8\\ub2e4 \\ucc98\\uc74c\\ubd80\\ud130 \\ub4e4\\uc5ec\\ub2e4\\ubcf8\\ub2e4\\ub294 \\uc0dd\\uac01\\uc73c\\ub85c \\uc784\\ud558\\uace0 \\uc788\\ub2e4. \\ud2b9\\ud788 \\uc885\\ud569\\uc18c\\ub4dd\\uc774\\ub098 \\uc591\\ub3c4\\uc18c\\ub4dd\\uc740 1\\ub144 \\ub2e8\\uc704\\ub85c \\uc0b0\\uc815\\ub418\\ub2e4 \\ubcf4\\ub2c8 \\uc815\\uc0b0\\ud560 \\uc988\\uc74c \\ub418\\uba74 \\ucd1d \\uc18c\\ub4dd\\uc774 \\uc5b4\\ub290 \\uc815\\ub3c4 \\ubc1c\\uc0dd\\ud588\\uace0, \\uc5b4\\ub5a4 \\uc808\\uc138 \\uc804\\ub7b5\\uc744 \\uc801\\uc6a9\\ud560 \\uc218 \\uc788\\ub294\\uc9c0 \\ud655\\uc778\\ud558\\ub294 \\uac8c \\uc2b5\\uad00\\uc774 \\ub410\\ub2e4. A\\uc528\\ub294 \\uc62c\\ud574\\ub294 \\uc5b4\\ub5a4 \\uc138\\uc81c \\ud61c\\ud0dd\\uc774 \\uc788\\uace0, \\uc5b4\\ub5bb\\uac8c \\ub300\\ube44\\ud574\\uc57c \\ud558\\ub294\\uc9c0 \\uad81\\uae08\\ud574 \\uc138\\ubb34 \\uc0c1\\ub2f4\\uc744 \\uc2e0\\uccad\\ud588\\ub2e4.   A. 27\\uc77c KB\\uc99d\\uad8c\\uc5d0 \\ub530\\ub974\\uba74 \\uc5f0\\ub9d0\\uc5d0 \\uc2e0\\uacbd \\uc368\\uc57c \\ud560 \\uc138\\ubb34 \\uc0ac\\ud56d\\uc740 \\ud06c\\uac8c 4\\uac00\\uc9c0\\uac00 \\uc788\\ub2e4. \\uc6b0\\uc120 \\uc5f0\\uae08\\uacc4\\uc88c\\ub294 \\ub0a9\\uc785\\uc561\\uc5d0 \\ub300\\ud574 \\uc5f0\\ub9d0\\uc815\\uc0b0\\uc774\\ub098 \\uc885\\ud569\\uc18c\\ub4dd\\uc138 \\uc2e0\\uace0 \\ub54c \\uc138\\uc561\\uacf5\\uc81c \\ud61c\\ud0dd\\uc744 \\ubc1b\\uc744 \\uc218 \\uc788\\uc73c\\ubbc0\\ub85c \\ubc18\\ub4dc\\uc2dc \\ucc59\\uaca8\\uc57c \\ud55c\\ub2e4. \\uc774\\ub54c \\uc5f0\\uae08\\uacc4\\uc88c\\ub294 '\\uc5f0\\uae08\\uc800\\ucd95' \\ubc0f '\\ud1f4\\uc9c1\\uc5f0\\uae08' \\uacc4\\uc88c\\ub97c \\ub73b\\ud55c\\ub2e4. \\ub9e4\\ub144 1800\\ub9cc\\uc6d0\\uae4c\\uc9c0 \\ub0a9\\uc785\\uc774 \\uac00\\ub2a5\\ud558\\ub2e4. \\uc804\\uc790\\uc5d0 \\ub123\\uc740 \\uae08\\uc561\\uc5d0 \\ub300\\ud574\\uc120 600\\ub9cc\\uc6d0\\uc744, \\ud6c4\\uc790\\uae4c\\uc9c0 \\ud3ec\\ud568\\ud558\\uac8c \\ub418\\uba74 900\\ub9cc\\uc6d0 \\ud55c\\ub3c4\\ub85c \\uc138\\uc728 13.2%(\\uc9c0\\ubc29\\uc18c\\ub4dd\\uc138 \\ud3ec\\ud568)\\ub97c \\uc801\\uc6a9\\ud55c \\uae08\\uc561\\uc744 \\uc138\\uc561\\uacf5\\uc81c\\ub85c \\ub3cc\\ub824\\ubc1b\\uc744 \\uc218 \\uc788\\ub2e4. \\uc885\\ud569\\uc18c\\ub4dd\\uae08\\uc561\\uc774 4500\\ub9cc\\uc6d0 \\uc774\\ud558(\\uadfc\\ub85c\\uc18c\\ub4dd\\ub9cc \\uc788\\uc73c\\uba74 \\ucd1d\\uae09\\uc5ec\\uc561 5500\\ub9cc\\uc6d0 \\uc774\\ud558)\\uba74 \\uc138\\uc561\\uacf5\\uc81c\\uc728\\uc740 16.5%\\ub85c \\uc0c1\\ud5a5\\ub41c\\ub2e4.   \\ub2e4\\uc74c\\uc740 \\ud574\\uc678\\uc8fc\\uc2dd \\uc591\\ub3c4\\uc18c\\ub4dd\\uc744 \\ud655\\uc815\\ud558\\ub294 \\uc77c\\uc774\\ub2e4. \\ud574\\uc678\\uc8fc\\uc2dd \\ud22c\\uc790\\uc790\\ub294 \\uaf2d \\uac80\\ud1a0\\ud574\\uc57c \\ud55c\\ub2e4. \\ud574\\uc678\\uc8fc\\uc2dd\\uc740 \\uacb0\\uc81c\\uc77c \\uae30\\uc900 1\\uc6d4 1\\uc77c\\ubd80\\ud130 12\\uc6d4 31\\uc77c\\uae4c\\uc9c0 1\\ub144 \\uac04 \\uc2e4\\ud604\\ud55c \\uc591\\ub3c4\\uc18c\\ub4dd\\uc744 \\ud1b5\\uc0b0\\ud574 \\ub2e4\\uc74c \\ud574 5\\uc6d4 \\uc591\\uc18c\\uc18c\\ub4dd\\uc138\\ub97c \\uc2e0\\uace0\\u00b7\\ub0a9\\ubd80\\ud558\\uac8c \\ub41c\\ub2e4.   \\uae40\\ud76c\\uc131 KB\\uc99d\\uad8c \\uc138\\ubb34\\uc804\\ubb38\\uc704\\uc6d0\\uc740 \\uc774\\uc775\\uc744 \\ub9ce\\uc774 \\ub0c8\\uace0, \\uc190\\uc2e4 \\uc911\\uc778 \\ubcf4\\uc720 \\uc885\\ubaa9\\uc774 \\uc788\\ub2e4\\uba74 \\uc62c\\ud574 \\uc548\\uc5d0 \\uc190\\uc2e4\\uc744 \\uc2e4\\ud604\\ud558\\ub77c\\uace0 \\uc870\\uc5b8\\ud588\\ub2e4. \\ud574\\uc678\\uc8fc\\uc2dd\\uc740 \\uc5f0 \\ub2e8\\uc704\\ub85c \\uc591\\ub3c4\\ucc28\\uc775\\uacfc \\uc591\\ub3c4\\ucc28\\uc190\\uc774 \\ud1b5\\uc0b0\\ub418\\uae30 \\ub54c\\ubb38\\uc5d0 \\uc774\\uc775\\uc744 \\ud655\\uc815\\ud55c \\ubc94\\uc704 \\uc548\\uc5d0\\uc11c \\ud3c9\\uac00\\uc190\\uc2e4\\ub3c4 \\uc2e4\\ud604\\ud558\\uba74 \\uc591\\ub3c4\\uc18c\\ub4dd\\uc138\\ub97c \\uc904\\uc77c \\uc218 \\uc788\\ub2e4. \\ud574\\uc678\\uc8fc\\uc2dd\\ubfd0 \\uc544\\ub2c8\\ub77c \\uacfc\\uc138 \\ub300\\uc0c1 \\uad6d\\ub0b4\\uc8fc\\uc2dd(\\uc0c1\\uc7a5\\uc8fc\\uc2dd \\ub300\\uc8fc\\uc8fc \\uc591\\ub3c4\\ubd84, \\uc7a5\\uc678\\uac70\\ub798\\ubd84, \\ube44\\uc0c1\\uc7a5 \\uc8fc\\uc2dd \\ub9e4\\ub3c4\\ubd84 \\ub4f1) \\uc190\\uc775\\uacfc\\ub3c4 \\ud1b5\\uc0b0\\ud560 \\uc218 \\uc788\\ub2e4.   \\uc774\\uc775\\uc774 \\ud06c\\uac8c \\ubc1c\\uc0dd\\ud55c \\ud574\\uc678\\uc8fc\\uc2dd\\uc744 \\ubc30\\uc6b0\\uc790\\uc5d0\\uac8c \\uc99d\\uc5ec\\ud55c \\ud6c4 \\uc591\\ub3c4\\ud558\\ub294 \\ubc29\\ubc95\\uc740 \\uc62c\\ud574 \\ub9c8\\uc9c0\\ub9c9\\uc73c\\ub85c \\uc4f8 \\uc218 \\uc788\\ub294 \\uc808\\uc138\\ubc95\\uc774\\ub2e4. \\ud604\\ud589 \\uc99d\\uc5ec\\uc138\\uaddc\\uc815\\uc5d0\\uc120 \\ubc30\\uc6b0\\uc790 \\uac04\\uc5d0 10\\ub144 \\ub3d9\\uc548 \\uc99d\\uc5ec\\uc7ac\\uc0b0\\uacf5\\uc81c 6\\uc5b5\\uc6d0\\uc744 \\uc778\\uc815\\ud574\\uc900\\ub2e4. \\uc774 \\ud55c\\ub3c4 \\uc548\\uc5d0\\uc11c \\uc99d\\uc5ec\\uc138\\ub294 \\uba74\\uc81c\\ub418\\uace0, \\uc774\\ub97c \\uc591\\ub3c4\\ud560 \\uc2dc \\uc99d\\uc5ec \\uc2dc\\uc810\\uc758 \\uc138\\ubc95\\uc0c1 \\ud3c9\\uac00\\uc561\\uc744 \\ucde8\\ub4dd\\uac00\\uc561\\uc73c\\ub85c \\ucde8\\uae09\\ud574\\uc8fc\\uae30 \\ub54c\\ubb38\\uc774\\ub2e4.   \\uae40 \\uc804\\ubb38\\uc704\\uc6d0\\uc740 \\\"\\ud558\\uc9c0\\ub9cc \\uc9c0\\ub09c 7\\uc6d4 \\ubc1c\\ud45c\\ub41c \\uc138\\ubc95\\uac1c\\uc815\\uc548\\uc5d0 \\ub530\\ub974\\uba74 \\ubc30\\uc6b0\\uc790\\ub098 \\uc9c1\\uacc4\\uc874\\ube44\\uc18d\\uc73c\\ub85c\\ubd80\\ud130 \\uc99d\\uc5ec\\ubc1b\\uc740 \\uc8fc\\uc2dd\\uc744 1\\ub144 \\uc774\\ub0b4 \\ub9e4\\ub3c4\\ud558\\uba74 \\uc99d\\uc5ec\\uc790\\uac00 \\ucd5c\\ucd08 \\ucde8\\ub4dd\\ud588\\ub358 \\uac00\\uc561 \\uae30\\uc900\\uc73c\\ub85c \\uc591\\ub3c4\\uc18c\\ub4dd\\uc138 \\uacc4\\uc0b0\\ubc95\\uc774 \\ubc14\\ub014 \\uc608\\uc815\\\"\\uc774\\ub77c\\uba70 \\\"\\uc99d\\uc5ec \\ud6c4 1\\ub144 \\uc774\\uc0c1 \\uac00\\uc9c0\\uace0 \\uc788\\ub2e4\\uac00 \\ub9e4\\ub3c4\\ud574\\uc57c \\uac19\\uc740 \\ud61c\\ud0dd\\uc744 \\ubc1b\\ub294 \\uac74\\ub370, \\uadf8 \\ub3d9\\uc548 \\uc8fc\\uac00 \\ubcc0\\ub3d9\\uc774 \\uc788\\uae30 \\ub54c\\ubb38\\uc5d0 \\uc608\\uce21 \\uac00\\ub2a5\\uc131\\uc740 \\ub5a8\\uc5b4\\uc9c4\\ub2e4\\\"\\uace0 \\ub9d0\\ud588\\ub2e4.   \\uae08\\uc735\\uc18c\\ub4dd\\uc885\\ud569\\uacfc\\uc138\\uc5d0\\ub3c4 \\ub300\\ube44\\ud574\\uc57c \\ud55c\\ub2e4. \\uc774\\uc790\\u00b7\\ubc30\\ub2f9\\uc18c\\ub4dd\\uc774 \\uc5f0 2000\\ub9cc\\uc6d0\\uc744 \\ub118\\uc5b4\\uc11c\\uba74 \\ub2e4\\ub978 \\uc18c\\ub4dd\\uacfc \\ud569\\uc0b0\\ud574 \\ub2e4\\uc74c\\ud574 5\\uc6d4 \\uc885\\ud569\\uc18c\\ub4dd\\uc138\\ub97c \\uc2e0\\uace0\\ud574\\uc57c \\ud55c\\ub2e4. \\uae08\\uc735\\uc18c\\ub4dd\\ub9cc \\uc788\\ub2e4\\uba74 \\uc774\\ubbf8 \\uc6d0\\ucc9c\\uc9d5\\uc218\\ub85c \\uc138\\uae08\\uc744 \\ub0a9\\ubd80\\ud55c \\ub9cc\\ud07c \\uc5f0 8000\\ub9cc\\uc6d0 \\uc815\\ub3c4\\uae4c\\uc9c4 \\ucd94\\uac00\\ub0a9\\ubd80\\uc138\\uc561\\uc774 \\ub098\\uc624\\uc9c0 \\uc54a\\uc9c0\\ub9cc, \\uadfc\\ub85c\\uc18c\\ub4dd\\uc774\\ub098 \\uc0ac\\uc5c5\\uc18c\\ub4dd \\ub4f1\\uc774 \\uc788\\ub2e4\\uba74 \\uc885\\ud569\\uc18c\\ub4dd\\uc138 \\ub204\\uc9c4\\uc138\\uc728 \\uc801\\uc6a9\\uc73c\\ub85c \\ub0a9\\ubd80 \\uc138\\uae08\\uc774 \\ubd88\\uc5b4\\ub0a0 \\uc218 \\uc788\\ub2e4.   \\ub610 \\uac74\\uac15\\ubcf4\\ud5d8\\uc5d0\\uc11c \\uc9c1\\uc7a5\\uac00\\uc785\\uc790\\uc758 \\ud53c\\ubd80\\uc591\\uc790\\uc5d0 \\ud574\\ub2f9\\ud558\\ub294 \\uc0ac\\ub78c\\uc774 \\uae08\\uc735\\uc18c\\ub4dd\\uc885\\ud569\\uacfc\\uc138\\uc5d0 \\ub300\\uc0c1\\uc774\\uba74 \\uc790\\uaca9\\uc720\\uc9c0 \\uc694\\uac74 \\uc911 '\\uc18c\\ub4dd 2000\\ub9cc\\uc6d0 \\uc774\\ud558'\\ub97c \\ucda9\\uc871\\ud558\\uc9c0 \\ubabb\\ud574 2025\\ub144 11\\uc6d4\\ubd80\\ud130 \\uc9c0\\uc5ed\\uac00\\uc785\\uc790\\ub85c \\uc804\\ud658\\ub41c\\ub2e4. \\uae40 \\uc5f0\\uad6c\\uc704\\uc6d0\\uc740 \\\"\\uae08\\uc735\\uc0c1\\ud488\\ubcc4\\ub85c \\uc18c\\ub4dd\\uc774 \\uadc0\\uc18d\\ub418\\ub294 \\uc2dc\\uae30\\ub97c \\ud30c\\uc545\\ud574 \\uc5f0\\ub3c4\\ubcc4\\ub85c, \\ud639\\uc740 \\uae08\\uc735\\uc790\\uc0b0 \\uc790\\uccb4\\ub97c \\uac00\\uc871\\uc5d0 \\uc99d\\uc5ec\\ud574 \\uc18c\\ub4dd\\uc744 \\uc0ac\\ub78c\\ubcc4\\ub85c \\ubd84\\uc0b0\\ud574\\uc57c \\ud55c\\ub2e4\\\"\\uace0 \\uad8c\\ud588\\ub2e4.   \\ub05d\\uc73c\\ub85c \\uc0c1\\uc7a5\\uc8fc\\uc2dd \\ub300\\uc8fc\\uc8fc\\uc5d0 \\ud574\\ub2f9\\ud558\\ub294\\uc9c0 \\uac80\\ud1a0\\ud574\\uc57c \\ud55c\\ub2e4. \\uc8fc\\uc2dd\\uc744 \\uc591\\ub3c4\\ud558\\ub294 \\uc0ac\\uc5c5\\uc5f0\\ub3c4 \\uc9c1\\uc804 \\uc0ac\\uc5c5\\uc5f0\\ub3c4 \\ub9d0 \\uae30\\uc900 \\ubcf4\\uc720\\uc8fc\\uc2dd \\uc2dc\\uac00\\ucd1d\\uc561\\uc774 50\\uc5b5\\uc6d0 \\uc774\\uc0c1 \\ud639\\uc740 \\uc9c0\\ubd84\\uc728\\uc774 \\uc77c\\uc815 \\uc218\\uc900(\\ucf54\\uc2a4\\ud53c 1%, \\ucf54\\uc2a4\\ub2e5 2%, \\ucf54\\ub125\\uc2a4 4%) \\uc774\\uc0c1\\uc77c \\uacbd\\uc6b0 \\uc591\\ub3c4\\uc18c\\ub4dd\\uc138\\ub97c \\ub0b4\\uc57c \\ud55c\\ub2e4.   \\uae40 \\uc5f0\\uad6c\\uc704\\uc6d0\\uc740 \\\"\\uc5f0\\ub9d0 \\ub300\\uc8fc\\uc8fc\\ub97c \\ud53c\\ud558\\uae30 \\uc704\\ud574 \\ubcf4\\uc720 \\uc8fc\\uc2dd\\uc744 \\uc77c\\ubd80 \\ub9e4\\ub3c4\\ud560 \\uacc4\\ud68d\\uc774\\ub77c\\uba74 12\\uc6d4 26\\uc77c\\uae4c\\uc9c0\\ub294 \\ub9e4\\ub3c4 \\uc8fc\\ubb38\\uc774 \\uccb4\\uacb0\\ub3fc 30\\uc77c \\ub300\\uae08 \\uacb0\\uc81c\\uac00 \\ub3fc\\uc57c \\ud55c\\ub2e4\\\"\\uba70 \\\"\\uc138\\ubc95\\uc0c1 \\ub9e4\\ub3c4\\uc77c\\uc740 \\ub300\\uae08 \\uacb0\\uc81c\\uc77c\\uc774\\uae30 \\ub54c\\ubb38\\\"\\uc774\\ub77c\\uace0 \\uc9da\\uc5c8\\ub2e4.   KB\\uc99d\\uad8c \\uc138\\ubb34\\uc804\\ubb38\\uac00\\uc640\\uc758 \\uc0c1\\ub2f4 \\ub0b4\\uc6a9\\uc744 \\ubc14\\ud0d5\\uc73c\\ub85c \\ud55c [\\uc138\\ubb34 \\uc7ac\\ud14c\\ud06c Q&A]\\ub294 \\ub9e4\\uc6d4 \\ub137\\uc9f8 \\uc8fc\\uc5d0 \\uc5f0\\uc7ac\\ub429\\ub2c8\\ub2e4.\",\n          \"\\ub9e4\\ucd9c 3\\uc8708\\ucc9c785\\uc5b5\\uc6d0\\uc73c\\ub85c 14.5% \\uac10\\uc18c\\u2026\\uc790\\uccb4 \\uc0ac\\uc5c5 \\uc2e4\\uc801\\uc740 \\uace0\\uc218\\uc775\\uc81c\\ud488 \\ud638\\uc870\\ub85c \\uc131\\uc7a5\\n\\n\\n\\n\\ub450\\uc0b0 \\ub85c\\uace0[\\ub450\\uc0b0 \\uc81c\\uacf5. \\uc7ac\\ud310\\ub9e4 \\ubc0f DB \\uae08\\uc9c0]    (\\uc11c\\uc6b8=\\uc5f0\\ud569\\ub274\\uc2a4) \\uc784\\uc131\\ud638 \\uae30\\uc790 = \\u321c\\ub450\\uc0b0\\uc740 \\uc5f0\\uacb0 \\uae30\\uc900 \\uc62c\\ud574 3\\ubd84\\uae30 \\uc601\\uc5c5\\uc774\\uc775\\uc774 1\\ucc9c102\\uc5b5\\uc6d0\\uc73c\\ub85c \\uc9c0\\ub09c\\ud574 \\ub3d9\\uae30\\ubcf4\\ub2e4 65.5% \\uac10\\uc18c\\ud55c \\uac83\\uc73c\\ub85c \\uc7a0\\uc815 \\uc9d1\\uacc4\\ub410\\ub2e4\\uace0 31\\uc77c \\uacf5\\uc2dc\\ud588\\ub2e4.    \\ub9e4\\ucd9c\\uc740 3\\uc8708\\ucc9c785\\uc5b5\\uc6d0\\uc73c\\ub85c \\uc791\\ub144 \\ub3d9\\uae30 \\ub300\\ube44 14.5% \\uac10\\uc18c\\ud588\\ub2e4. \\uc21c\\uc190\\uc2e4\\uc740 949\\uc5b5\\uc6d0\\uc73c\\ub85c \\uc801\\uc790\\ub85c \\ub3cc\\uc544\\uc130\\ub2e4.    \\uc9c0\\ub09c\\ud574 \\ud638\\uc2e4\\uc801\\uc73c\\ub85c \\uc778\\ud55c \\uc5ed\\uae30\\uc800 \\ud6a8\\uacfc\\uc640 \\ud568\\uaed8 \\ub450\\uc0b0\\ubc25\\ucea3\\uc758 \\uc2e4\\uc801 \\uc545\\ud654\\uc5d0 \\uc601\\ud5a5\\uc744 \\ubc1b\\uc740 \\uac83\\uc774\\ub77c\\uace0 \\ub450\\uc0b0\\uc740 \\uc124\\uba85\\ud588\\ub2e4.    \\ub2e4\\ub9cc \\ub450\\uc0b0 \\uc790\\uccb4 \\uc0ac\\uc5c5 \\ub9e4\\ucd9c\\uacfc \\uc601\\uc5c5\\uc774\\uc775\\uc740 \\uc804\\uc790BG(\\ube44\\uc988\\ub2c8\\uc2a4\\uadf8\\ub8f9)\\uc758 \\uace0\\uc218\\uc775 \\uc81c\\ud488 \\ud310\\ub9e4 \\ud638\\uc870\\ub85c \\uc131\\uc7a5\\ud588\\ub2e4.     \\uc62c\\ud574 3\\ubd84\\uae30 \\ub450\\uc0b0 \\uc790\\uccb4 \\uc0ac\\uc5c5\\uc758 \\ub9e4\\ucd9c\\uc740 3\\ucc9c425\\uc5b5\\uc6d0, \\uc601\\uc5c5\\uc774\\uc775\\uc740 355\\uc5b5\\uc6d0\\uc73c\\ub85c \\uc804\\ub144 \\ub3d9\\uae30 \\ub300\\ube44 \\uac01\\uac01 19.8%, 80.2% \\uc131\\uc7a5\\ud588\\ub2e4.     \\uc804\\uc790BG\\ub294 \\uba54\\ubaa8\\ub9ac \\ubc18\\ub3c4\\uccb4 \\uc2dc\\uc7a5 \\uce68\\uccb4\\uc5d0\\ub3c4 \\uc778\\uacf5\\uc9c0\\ub2a5(AI) \\uac00\\uc18d\\uae30 \\ub4f1 \\ucc28\\uc138\\ub300 \\uc18c\\uc7ac \\uc2dc\\uc7a5 \\ud655\\ub300\\uc5d0 \\ud798\\uc785\\uc5b4 \\ud06c\\uac8c \\uc131\\uc7a5\\ud588\\ub2e4. \\uc804\\uc790BG\\ub294 \\uc62c\\ud574 4\\ubd84\\uae30\\uc5d0\\ub3c4 AI \\uac00\\uc18d\\uae30, \\uad11\\ud559\\ubaa8\\ub4c8(\\uc804\\uae30\\uc2e0\\ud638\\ub97c \\uad11\\uc2e0\\ud638\\ub85c \\ubcc0\\ud658\\ud558\\ub294 \\uc804\\uc790 \\uc7a5\\uce58) \\ub4f1 \\ud558\\uc774\\uc5d4\\ub4dc \\uc18c\\uc7ac \\uc591\\uc0b0\\uc5d0 \\uae30\\ubc18\\ud574 \\uc131\\uc7a5 \\uc18d\\ub3c4\\ub97c \\ub192\\uc778\\ub2e4\\ub294 \\uacc4\\ud68d\\uc774\\ub2e4.\\n\\n\\n\\n\\ub450\\uc0b0\\uc5d0\\ub108\\ube4c\\ub9ac\\ud2f0\\uac00 \\uc81c\\uc8fc \\ud55c\\ub9bc\\uc74d \\uc778\\uadfc \\ud574\\uc0c1\\uc5d0 \\uc124\\uce58\\ud55c 5.5\\u33bf \\ud574\\uc0c1\\ud48d\\ub825\\ubc1c\\uc804\\uae30[\\ub450\\uc0b0\\uc5d0\\ub108\\ube4c\\ub9ac\\ud2f0 \\uc81c\\uacf5. \\uc7ac\\ud310\\ub9e4 \\ubc0f DB \\uae08\\uc9c0]    \\ub450\\uc0b0\\uc5d0\\ub108\\ube4c\\ub9ac\\ud2f0\\ub294 3\\ubd84\\uae30 \\uc5f0\\uacb0 \\uae30\\uc900 \\ub9e4\\ucd9c 3\\uc8703\\ucc9c956\\uc5b5\\uc6d0, \\uc601\\uc5c5\\uc774\\uc775 1\\ucc9c148\\uc5b5\\uc6d0\\uc744 \\uae30\\ub85d\\ud588\\ub2e4.     \\uc62c\\ud574 \\ub4e4\\uc5b4 3\\ubd84\\uae30\\uae4c\\uc9c0 \\ub204\\uc801 \\uc218\\uc8fc\\ub294 \\uc804\\ub144 \\ub3d9\\uae30 \\ub300\\ube44 45.9% \\uac10\\uc18c\\ud55c 3\\uc8701\\ucc9c767\\uc5b5\\uc6d0\\uc744 \\uae30\\ub85d\\ud588\\ub2e4.    \\uc774\\ub294 \\uc9c0\\ub09c\\ud574 \\uc2e0\\ud55c\\uc6b8 3, 4\\ud638\\uae30\\uc640 \\uce74\\uc790\\ud750\\uc2a4\\ud0c4 \\ubcf5\\ud569 \\ud654\\ub825\\ubc1c\\uc804 \\ub4f1 \\ub300\\ud615 \\ud504\\ub85c\\uc81d\\ud2b8\\uac00 \\uc788\\uc5c8\\ub358 \\ub370 \\ub530\\ub978 \\uc5ed\\uae30\\uc800 \\ud6a8\\uacfc\\ub77c\\uace0 \\ub450\\uc0b0\\uc740 \\uc124\\uba85\\ud588\\ub2e4. \\uc62c\\ud574 4\\ubd84\\uae30 \\uc9d1\\uc911\\ub41c \\ud574\\uc678 \\uc218\\uc8fc\\ub97c \\ucd94\\uac00\\ud558\\uba74 \\uc5f0\\uac04 \\uc218\\uc8fc \\ubaa9\\ud45c\\uc561\\uc778 6\\uc8703\\ucc9c\\uc5b5\\uc6d0 \\ub2ec\\uc131\\uc740 \\uac00\\ub2a5\\ud55c \\uac83\\uc73c\\ub85c \\uc804\\ub9dd\\ud588\\ub2e4.    \\ub450\\uc0b0\\ubc25\\ucea3\\uc740 \\uc62c\\ud574 3\\ubd84\\uae30 1\\uc8707\\ucc9c777\\uc5b5\\uc6d0\\uc758 \\ub9e4\\ucd9c\\uc5d0 1\\ucc9c257\\uc5b5\\uc6d0\\uc758 \\uc601\\uc5c5\\uc774\\uc775\\uc744 \\uae30\\ub85d\\ud588\\ub2e4. \\ub9e4\\ucd9c\\uc561\\uc740 \\uc678\\ubd80 \\ubd88\\ud655\\uc2e4\\uc131 \\ud655\\ub300 \\ubc0f \\ub51c\\ub7ec \\uc7ac\\uace0 \\uc870\\uc815\\uc73c\\ub85c \\uc804\\ub144 \\ub300\\ube44 25%, \\uc601\\uc5c5\\uc774\\uc775\\uc740 \\uc0dd\\uc0b0\\ub7c9 \\uc870\\uc815\\uc5d0 \\ub530\\ub978 \\uace0\\uc815\\ube44 \\ubd80\\ub2f4 \\ub4f1\\uc73c\\ub85c 58% \\uac01\\uac01 \\uc904\\uc5c8\\ub2e4.    \\ub450\\uc0b0\\ud4e8\\uc5bc\\uc140\\uc740 3\\ubd84\\uae30 \\ub9e4\\ucd9c 320\\uc5b5\\uc6d0, \\uc601\\uc5c5\\uc190\\uc2e4 23\\uc5b5\\uc6d0\\uc744 \\uae30\\ub85d\\ud588\\ub2e4.     \\uc9c0\\ub09c\\ud574 \\uccad\\uc815\\uc218\\uc18c\\ubc1c\\uc804\\uc758\\ubb34\\ud654\\uc81c\\ub3c4(CHPS) \\uc5d0 \\ub530\\ub978 \\uc77c\\ubc18 \\uc218\\uc18c \\uc785\\ucc30\\uc2dc\\uc7a5\\uc5d0\\uc11c \\ub099\\ucc30\\ubc1b\\uc740 \\ubb3c\\ub7c9\\uc774 \\uc62c\\ud574 4\\ubd84\\uae30\\ubd80\\ud130 \\ubcf8\\uaca9\\uc801\\uc73c\\ub85c \\ub0a9\\ud488\\ub418\\ub294 \\ub9cc\\ud07c \\uc5f0\\uac04 \\ub9e4\\ucd9c\\uc740 \\uc9c0\\ub09c\\ud574 \\ub300\\ube44 \\ud070 \\ud3ed\\uc73c\\ub85c \\ubc18\\ub4f1\\ud574 \\uc2dc\\uc7a5 \\ucd94\\uc815\\uce58\\uc778 4\\ucc9c\\uc5b5\\uc6d0\\uc744 \\ub2ec\\uc131\\ud560 \\uac83\\uc73c\\ub85c \\ub450\\uc0b0\\uc740 \\uae30\\ub300\\ud588\\ub2e4.    sh@yna.co.kr\",\n          \"\\uc774\\ub2ec \\uc288\\ub4dcETF 1500\\uc5b5 \\uc0ac\\ub4e4\\uc5ec\\uc99d\\uc2dc \\ubcc0\\ub3d9\\uc131 \\ucee4\\uc9c0\\uc790 \\uc548\\uc815\\uc131 \\ud0dd\\ud574\\uae08\\ub9ac\\uc778\\ud558 \\uae30\\uc870\\uc5d0 \\ubc30\\ub2f9 \\ub9e4\\ub825 \\ubd80\\uac01\\uc6b4\\uc6a9\\uc0ac, \\uad00\\ub828 ETF \\uc787\\ub530\\ub77c \\ucd9c\\uc2dc \\n\\n\\n\\n \\ubbf8\\uad6d \\ub300\\uc120\\uc744 \\uc55e\\ub450\\uace0 \\uc99d\\uc2dc \\ubcc0\\ub3d9\\uc131\\uc774 \\ud655\\ub300\\ub418\\uba74\\uc11c \\uc11c\\ud559\\uac1c\\ubbf8\\ub4e4\\uc774 \\ubc30\\ub2f9\\uc8fc \\ud22c\\uc790\\ub85c \\ub208\\uae38\\uc744 \\ub3cc\\ub9ac\\uace0 \\uc788\\ub2e4. \\uae08\\ub9ac\\uac00 \\uc778\\ud558\\ub85c \\ubc29\\ud5a5\\uc744 \\uc7a1\\uc73c\\uba74\\uc11c \\uc0c1\\ub300\\uc801\\uc73c\\ub85c \\ubc30\\ub2f9 \\uc218\\uc775\\ub960 \\ub9e4\\ub825\\uc774 \\ub192\\uc544\\uc9c0\\uace0 \\uc788\\uc5b4\\uc11c\\ub2e4.   30\\uc77c \\ud55c\\uad6d\\uc608\\ud0c1\\uacb0\\uc81c\\uc6d0\\uc5d0 \\ub530\\ub974\\uba74 \\uc11c\\ud559\\uac1c\\ubbf8\\ub294 \\uc774\\ub2ec \\ub4e4\\uc5b4 29\\uc77c\\uae4c\\uc9c0 \\ubbf8\\uad6d \\uc99d\\uc2dc\\uc5d0 \\uc0c1\\uc7a5\\ub41c \\ucc30\\uc2a4\\uc288\\uc640\\ube0c\\uc758 '\\uc288\\uc640\\ube0c US \\ub514\\ube44\\ub358\\ub4dc \\uc5d0\\ucffc\\ud2f0 ETF(\\ud2f0\\ucee4 SCHD\\u00b7\\uc288\\ub4dc)'\\ub97c 1\\uc5b5853\\ub9cc\\ub2ec\\ub7ec(\\uc57d 1501\\uc5b5\\uc6d0)\\uc5b4\\uce58 \\uc0ac\\ub4e4\\uc600\\ub2e4. \\uc774 \\uae30\\uac04 \\ubbf8\\uad6d \\uc8fc\\uc2dd \\uc911 \\uc21c\\ub9e4\\uc218 \\uaddc\\ubaa8 2\\uc704\\ub2e4. \\ud2b9\\ud788 \\ucd5c\\uadfc \\uc77c\\uc8fc\\uc77c \\uac04(10\\uc6d422\\uc77c~29\\uc77c) 3491\\ub9cc\\ub2ec\\ub7ec(\\uc57d 483\\uc5b5\\uc6d0)\\uc5b4\\uce58\\ub97c \\uc0ac\\ub4e4\\uc774\\uba74\\uc11c \\uc288\\ub4dc\\ub294 \\uc774 \\uae30\\uac04 \\uc11c\\ud559\\uac1c\\ubbf8 \\uc21c\\ub9e4\\uc218 1\\uc704\\uc5d0 \\uc624\\ub97c \\uc815\\ub3c4\\ub85c \\uc790\\uae08 \\uc720\\uc785\\uc774 \\ubab0\\ub838\\ub2e4.   \\uc288\\ub4dc\\ub294 10\\ub144 \\uc774\\uc0c1 \\ubc30\\ub2f9\\uc744 \\uc9c0\\uc18d\\ud55c \\ubbf8\\uad6d \\uae30\\uc5c5 \\uc911 \\uc0c1\\uc704 100\\uc885\\ubaa9\\uc744 \\uc120\\ubcc4\\ud55c \\ub2e4\\uc6b0\\uc874\\uc2a4US\\ubc30\\ub2f9100\\uc9c0\\uc218\\ub97c \\ucd94\\uc885\\ud558\\ub294 \\uc0c1\\ud488\\uc774\\ub2e4. \\ud648\\ub514\\ud3ec(\\uad6c\\uc131 \\ube44\\uc911 4.37%), \\uc2dc\\uc2a4\\ucf54 \\uc2dc\\uc2a4\\ud15c\\uc988(4.35%), \\ube14\\ub799\\ub85d(4.34%), \\uc138\\ube0c\\ub860(4.08%) \\ub4f1 \\ubbf8\\uad6d \\uc8fc\\uc694 \\ubc30\\ub2f9\\uc8fc\\uac00 \\ub2f4\\uaca8\\uc788\\uace0, \\uc5f0 4\\ud68c(3, 6, 9, 12\\uc6d4) \\ubc30\\ub2f9\\uae08\\uc744 \\uc9c0\\uae09\\ud558\\uace0 \\uc788\\ub2e4.   \\ub2e4\\uc74c \\ub2ec \\ubbf8\\uad6d \\ub300\\uc120\\uc744 \\uc55e\\ub450\\uace0 \\uac1c\\ubcc4 \\uc885\\ubaa9 \\ubcc0\\ub3d9\\uc131\\uc774 \\ud655\\ub300\\ub418\\uba74\\uc11c \\ube44\\uad50\\uc801 \\uc548\\uc815\\uc801 \\ud604\\uae08 \\ud750\\ub984\\uc744 \\uc81c\\uacf5\\ud558\\ub294 \\ubc30\\ub2f9\\uc8fc\\uc5d0 \\uad00\\uc2ec\\uc774 \\uc3e0\\ub9b0 \\uac83\\uc73c\\ub85c \\ud480\\uc774\\ub41c\\ub2e4. \\uc11c\\ud559\\uac1c\\ubbf8\\ub294 \\uc774\\ub2ec \\uc5d4\\ube44\\ub514\\uc544\\uc640 \\ud14c\\uc2ac\\ub77c\\ub97c \\uac01\\uac01 8\\uc5b561\\ub9cc\\ub2ec\\ub7ec(\\uc57d 1\\uc8701078\\uc5b5), 3\\uc5b58196\\ub9cc\\ub2ec\\ub7ec(\\uc57d 5285\\uc5b5)\\uc5b4\\uce58 \\uc21c\\ub9e4\\ub3c4\\ud588\\ub2e4. \\uc5d4\\ube44\\ub514\\uc544\\uc758 \\uacbd\\uc6b0 \\uc774\\ub2ec 140\\ub2ec\\ub7ec\\uae4c\\uc9c0 \\uc624\\ub974\\uba70 \\uc0ac\\uc0c1 \\ucd5c\\uace0\\uac00\\ub97c \\uacbd\\uc2e0\\ud55c \\ub4a4 \\ucc28\\uc775\\uc2e4\\ud604 \\ub9e4\\ubb3c\\uc774 \\ub098\\uc628 \\uac00\\uc6b4\\ub370, \\ud14c\\uc2ac\\ub77c\\ub3c4 \\ub85c\\ubcf4\\ud0dd\\uc2dc \\ubc0f 3\\u00b74\\ubd84\\uae30 \\ud638\\uc2e4\\uc801 \\ubc1c\\ud45c \\uc774\\ud6c4 \\uc8fc\\uac00\\uac00 \\ucd9c\\ub801\\uc774\\uba74\\uc11c \\uc11c\\ud559\\uac1c\\ubbf8\\ub4e4\\uc774 \\ub9e4\\ub3c4 \\uc6b0\\uc704\\ub85c \\ub3cc\\uc544\\uc130\\ub2e4.   \\uc7a5\\uae30\\uc801 \\uae08\\ub9ac \\uc778\\ud558 \\uad6d\\uba74\\uc5d0\\uc11c \\ubc30\\ub2f9\\uc8fc ETF\\uc758 \\ub9e4\\ub825\\uc774 \\ubd80\\uac01\\ub410\\ub2e4\\ub294 \\ubd84\\uc11d\\ub3c4 \\ub098\\uc628\\ub2e4. \\uc9c0\\ub09c\\ud574 \\uc288\\ub4dc\\uc758 \\ubc30\\ub2f9\\uc218\\uc775\\ub960\\uc740 3.49%\\uc600\\ub2e4. \\uc791\\ub144 \\ubbf8\\uad6d \\uae30\\uc900\\uae08\\ub9ac(5.25~5.50%)\\uc640 \\ube44\\uad50\\ud558\\uba74 \\ub2e4\\uc18c \\uc544\\uc26c\\uc6b4 \\uc218\\uc900\\uc774\\ub2e4. \\ub2e4\\ub9cc \\uc9c0\\ub09c\\ub2ec \\ubbf8\\uad6d \\uc5f0\\ubc29\\uc900\\ube44\\uc81c\\ub3c4(Fed)\\uc758 '\\ube45\\ucef7' \\ub2e8\\ud589 \\uc774\\ud6c4 \\uae08\\ub9ac\\uac00 \\uc9c0\\uc18d\\uc801\\uc73c\\ub85c \\ub0ae\\uc544\\uc9c0\\ub294 \\uad6c\\uac04\\uc5d0\\uc11c\\ub294 \\uc608\\uae08 \\uae08\\ub9ac\\uc640 \\ucc44\\uad8c \\uc218\\uc775\\ub960 \\ub300\\ube44 \\ubc30\\ub2f9\\uc8fc ETF\\uc758 \\ubd84\\ubc30\\uae08 \\uc218\\uc775\\ub960\\uc744 \\ud655\\ubcf4\\ud560 \\uc218 \\uc788\\uc5b4\\uc11c \\ub9e4\\ub825\\ub3c4\\uac00 \\uc0c1\\uc2b9\\ud55c\\ub2e4\\ub294 \\uc124\\uba85\\uc774\\ub2e4.   \\ubc15\\uc720\\uc548 KB\\uc99d\\uad8c \\uc5f0\\uad6c\\uc6d0\\uc740 \\\"\\uc2e4\\uc81c \\uc5f0\\uc900\\uc758 \\ubcf4\\ud5d8\\uc131 \\uae30\\uc900\\uae08\\ub9ac \\uc778\\ud558 \\uc774\\ud6c4 \\uace0\\ubc30\\ub2f9 \\ud329\\ud130\\uc758 3\\uac1c\\uc6d4 \\uc218\\uc775\\ub960\\uc740 \\ud3c9\\uade0 4.4%\\uc758 \\uc591\\ud638\\ud55c \\uc218\\uc775\\ub960\\uc744 \\uae30\\ub85d\\ud55c \\ubc14 \\uc788\\ub2e4\\\"\\uba70 \\\"\\uc288\\ub4dc\\uc758 '\\ubc30\\ub2f9\\uc8fc ETF' \\ud2b9\\uc131\\uc744 \\uace0\\ub824\\ud558\\uba74 \\uc7a5\\uae30\\uc801 \\uad00\\uc810\\uc5d0\\uc11c \\uc811\\uadfc\\ud558\\ub294 \\uac83\\uc774 \\uc720\\ud6a8\\ud560 \\uac83\\\"\\uc774\\ub77c\\uace0 \\ub9d0\\ud588\\ub2e4.   \\uac1c\\uc778\\ud22c\\uc790\\uc790\\ub4e4\\uc740 \\uad6d\\ub0b4 \\uc99d\\uc2dc\\uc5d0\\uc11c \\uac70\\ub798\\ub418\\ub294 \\ubbf8\\uad6d \\ubc30\\ub2f9 ETF\\ub3c4 \\uc801\\uadf9 \\uc21c\\ub9e4\\uc218 \\uc911\\uc774\\ub2e4. \\uac1c\\uc778\\ud22c\\uc790\\uc790\\ub294 \\uc774\\ub2ec \\ub4e4\\uc5b4 \\uad6d\\ub0b4 \\uc99d\\uc2dc\\uc5d0 \\uc0c1\\uc7a5\\ub41c \\ub2e4\\uc6b0\\uc874\\uc2a4 \\ubc30\\ub2f9\\uc9c0\\uc218 \\uad00\\ub828 ETF 9\\uc885\\uc744 1264\\uc5b5\\uc6d0\\uc5b4\\uce58 \\uc21c\\ub9e4\\uc218\\ud588\\ub2e4. \\uc774\\uc911 'TIGER \\ubbf8\\uad6d\\ubc30\\ub2f9\\ub2e4\\uc6b0\\uc874\\uc2a4' ETF\\ub294 742\\uc5b5\\uc6d0\\uc5b4\\uce58 \\uc0ac\\ub4e4\\uc600\\ub294\\ub370, \\uc774 \\uae30\\uac04 \\uad6d\\ub0b4 ETF \\uc21c\\ub9e4\\uc218 5\\uc704 \\uaddc\\ubaa8\\ub2e4.   \\ud22c\\uc790\\uc790\\ub4e4 \\uad00\\uc2ec\\uace0\\uc870\\ub85c \\uc6b4\\uc6a9\\uc5c5\\uacc4\\ub3c4 \\uc787\\ub530\\ub77c \\ubbf8\\uad6d \\ubc30\\ub2f9 \\uad00\\ub828 ETF\\ub97c \\ucd9c\\uc2dc\\ud558\\uace0 \\uc788\\ub2e4. \\uc2e0\\ud55c\\uc790\\uc0b0\\uc6b4\\uc6a9\\uc774 \\uc9c0\\ub09c 8\\uc77c \\uc0c1\\uc7a5\\ud55c 'SOL \\ubbf8\\uad6d\\ubc30\\ub2f9\\ub2e4\\uc6b0\\uc874\\uc2a4TR' ETF\\ub294 \\ubbf8\\uad6d \\ub300\\ud45c \\ubc30\\ub2f9\\uc8fc\\uc5d0 \\ud22c\\uc790\\ud558\\ub418 \\ub9e4\\uc6d4 \\ubc1c\\uc0dd\\ud558\\ub294 \\ubc30\\ub2f9\\uae08\\uc744 \\uc9c0\\uc218\\uc5d0 \\uc790\\ub3d9 \\uc7ac\\ud22c\\uc790\\ud558\\ub294 \\ud328\\uc2dc\\ube0c\\ud615 \\uc0c1\\ud488\\uc774\\ub2e4.   \\ubc15\\uc2b9\\uc9c4 \\ud558\\ub098\\uc99d\\uad8c \\uc5f0\\uad6c\\uc6d0\\uc740 \\\"\\ubbf8\\uad6d\\uc758 '\\ub2e4\\uc6b0\\uc874\\uc2a4 \\ubc30\\ub2f9\\uc9c0\\uc218'\\ub294 10\\ub144 \\uc774\\uc0c1 \\uc5f0\\uc18d \\ubc30\\ub2f9\\uc744 \\uc2e4\\uc2dc\\ud55c \\uae30\\uc5c5\\ub4e4 \\uac00\\uc6b4\\ub370 \\uc790\\uae30\\uc790\\ubcf8\\uc774\\uc775\\ub960(ROE), \\ud604\\uae08\\ud750\\ub984, \\ubc30\\ub2f9\\uc131\\uc7a5\\ub960\\uc758 \\uae30\\uc900\\uc744 \\uc801\\uc6a9\\ud574 \\uc0c1\\uc704 100\\uac1c \\uc885\\ubaa9\\uc744 \\uc120\\uc815\\ud574 \\ud3ec\\ud2b8\\ud3f4\\ub9ac\\uc624\\ub97c \\uad6c\\uc131\\ud558\\uace0 \\uc788\\ub2e4\\\"\\uba70 \\\"\\ucd5c\\uadfc \\ud22c\\uc790\\uc790 \\uad00\\uc2ec\\uc774 \\ud06c\\uac8c \\uc99d\\uac00\\ud558\\uba74\\uc11c \\uad6d\\ub0b4 \\ubbf8\\uad6d \\ubc30\\ub2f9 ETF\\uc5d0\\uc11c\\ub3c4 \\ud65c\\uc6a9 \\ubc29\\ubc95\\uc774 \\ub2e4\\uc591\\ud574\\uc9c0\\uace0 \\uc788\\ub2e4\\\"\\uace0 \\uc124\\uba85\\ud588\\ub2e4.\"\n        ],\n        \"semantic_type\": \"\",\n        \"description\": \"\"\n      }\n    },\n    {\n      \"column\": \"date\",\n      \"properties\": {\n        \"dtype\": \"date\",\n        \"min\": \"2024-10-22\",\n        \"max\": \"2024-10-31\",\n        \"num_unique_values\": 10,\n        \"samples\": [\n          \"2024-10-23\",\n          \"2024-10-30\",\n          \"2024-10-26\"\n        ],\n        \"semantic_type\": \"\",\n        \"description\": \"\"\n      }\n    }\n  ]\n}"
            }
          },
          "metadata": {},
          "execution_count": 23
        }
      ]
    },
    {
      "cell_type": "code",
      "source": [
        "news_df.tail()"
      ],
      "metadata": {
        "colab": {
          "base_uri": "https://localhost:8080/",
          "height": 310
        },
        "id": "MTINU80fSUVL",
        "outputId": "e792ae34-b827-4715-923f-9a6039bb6e18"
      },
      "execution_count": 24,
      "outputs": [
        {
          "output_type": "execute_result",
          "data": {
            "text/plain": [
              "                                기사제목  \\\n",
              "195  K방산, 세계 ETF 수익률 1위…美 상장 땐 '뭉칫돈'   \n",
              "196             CFD도 해외 잔액만 1000억 급증   \n",
              "197           美선 달아오르는데 … 韓 양자컴株는 덜컹   \n",
              "198   \"자금난 기업 늘어나 … 주식보다 사모대출 투자 유망\"   \n",
              "199          되살아난 ELS…8개월만에 ELB 역전했다   \n",
              "\n",
              "                                                 본문url  \\\n",
              "195  https://n.news.naver.com/mnews/article/015/000...   \n",
              "196  https://n.news.naver.com/mnews/article/011/000...   \n",
              "197  https://n.news.naver.com/mnews/article/009/000...   \n",
              "198  https://n.news.naver.com/mnews/article/009/000...   \n",
              "199  https://n.news.naver.com/mnews/article/011/000...   \n",
              "\n",
              "                                                  기사본문        date  \n",
              "195  내년초 'PLUS 코리아 디펜스'올 수익 68% 'PLUS K방산' 참고각국 전쟁위...  2024-10-22  \n",
              "196  레버리지 투자 장외 파생상품주가조작 사태 후 작년 8월말거래 재개했지만 투자 양극화...  2024-10-22  \n",
              "197  美운용사 '게임체인저' 평가에아이온큐 주가 나흘째 상승세한국 관련주는 급등 후 하락...  2024-10-22  \n",
              "198  내달 12일 대체투자포럼 연사 하워드 마크스 오크트리 회장초저금리 시대는 더이상 없...  2024-10-22  \n",
              "199  9월 1.6조 발행···4300억 더 많아H지수 회복으로 손실 위험 감소글로벌 변동...  2024-10-22  "
            ],
            "text/html": [
              "\n",
              "  <div id=\"df-bc11eac8-cce9-40c6-872b-ba32e8e697e1\" class=\"colab-df-container\">\n",
              "    <div>\n",
              "<style scoped>\n",
              "    .dataframe tbody tr th:only-of-type {\n",
              "        vertical-align: middle;\n",
              "    }\n",
              "\n",
              "    .dataframe tbody tr th {\n",
              "        vertical-align: top;\n",
              "    }\n",
              "\n",
              "    .dataframe thead th {\n",
              "        text-align: right;\n",
              "    }\n",
              "</style>\n",
              "<table border=\"1\" class=\"dataframe\">\n",
              "  <thead>\n",
              "    <tr style=\"text-align: right;\">\n",
              "      <th></th>\n",
              "      <th>기사제목</th>\n",
              "      <th>본문url</th>\n",
              "      <th>기사본문</th>\n",
              "      <th>date</th>\n",
              "    </tr>\n",
              "  </thead>\n",
              "  <tbody>\n",
              "    <tr>\n",
              "      <th>195</th>\n",
              "      <td>K방산, 세계 ETF 수익률 1위…美 상장 땐 '뭉칫돈'</td>\n",
              "      <td>https://n.news.naver.com/mnews/article/015/000...</td>\n",
              "      <td>내년초 'PLUS 코리아 디펜스'올 수익 68% 'PLUS K방산' 참고각국 전쟁위...</td>\n",
              "      <td>2024-10-22</td>\n",
              "    </tr>\n",
              "    <tr>\n",
              "      <th>196</th>\n",
              "      <td>CFD도 해외 잔액만 1000억 급증</td>\n",
              "      <td>https://n.news.naver.com/mnews/article/011/000...</td>\n",
              "      <td>레버리지 투자 장외 파생상품주가조작 사태 후 작년 8월말거래 재개했지만 투자 양극화...</td>\n",
              "      <td>2024-10-22</td>\n",
              "    </tr>\n",
              "    <tr>\n",
              "      <th>197</th>\n",
              "      <td>美선 달아오르는데 … 韓 양자컴株는 덜컹</td>\n",
              "      <td>https://n.news.naver.com/mnews/article/009/000...</td>\n",
              "      <td>美운용사 '게임체인저' 평가에아이온큐 주가 나흘째 상승세한국 관련주는 급등 후 하락...</td>\n",
              "      <td>2024-10-22</td>\n",
              "    </tr>\n",
              "    <tr>\n",
              "      <th>198</th>\n",
              "      <td>\"자금난 기업 늘어나 … 주식보다 사모대출 투자 유망\"</td>\n",
              "      <td>https://n.news.naver.com/mnews/article/009/000...</td>\n",
              "      <td>내달 12일 대체투자포럼 연사 하워드 마크스 오크트리 회장초저금리 시대는 더이상 없...</td>\n",
              "      <td>2024-10-22</td>\n",
              "    </tr>\n",
              "    <tr>\n",
              "      <th>199</th>\n",
              "      <td>되살아난 ELS…8개월만에 ELB 역전했다</td>\n",
              "      <td>https://n.news.naver.com/mnews/article/011/000...</td>\n",
              "      <td>9월 1.6조 발행···4300억 더 많아H지수 회복으로 손실 위험 감소글로벌 변동...</td>\n",
              "      <td>2024-10-22</td>\n",
              "    </tr>\n",
              "  </tbody>\n",
              "</table>\n",
              "</div>\n",
              "    <div class=\"colab-df-buttons\">\n",
              "\n",
              "  <div class=\"colab-df-container\">\n",
              "    <button class=\"colab-df-convert\" onclick=\"convertToInteractive('df-bc11eac8-cce9-40c6-872b-ba32e8e697e1')\"\n",
              "            title=\"Convert this dataframe to an interactive table.\"\n",
              "            style=\"display:none;\">\n",
              "\n",
              "  <svg xmlns=\"http://www.w3.org/2000/svg\" height=\"24px\" viewBox=\"0 -960 960 960\">\n",
              "    <path d=\"M120-120v-720h720v720H120Zm60-500h600v-160H180v160Zm220 220h160v-160H400v160Zm0 220h160v-160H400v160ZM180-400h160v-160H180v160Zm440 0h160v-160H620v160ZM180-180h160v-160H180v160Zm440 0h160v-160H620v160Z\"/>\n",
              "  </svg>\n",
              "    </button>\n",
              "\n",
              "  <style>\n",
              "    .colab-df-container {\n",
              "      display:flex;\n",
              "      gap: 12px;\n",
              "    }\n",
              "\n",
              "    .colab-df-convert {\n",
              "      background-color: #E8F0FE;\n",
              "      border: none;\n",
              "      border-radius: 50%;\n",
              "      cursor: pointer;\n",
              "      display: none;\n",
              "      fill: #1967D2;\n",
              "      height: 32px;\n",
              "      padding: 0 0 0 0;\n",
              "      width: 32px;\n",
              "    }\n",
              "\n",
              "    .colab-df-convert:hover {\n",
              "      background-color: #E2EBFA;\n",
              "      box-shadow: 0px 1px 2px rgba(60, 64, 67, 0.3), 0px 1px 3px 1px rgba(60, 64, 67, 0.15);\n",
              "      fill: #174EA6;\n",
              "    }\n",
              "\n",
              "    .colab-df-buttons div {\n",
              "      margin-bottom: 4px;\n",
              "    }\n",
              "\n",
              "    [theme=dark] .colab-df-convert {\n",
              "      background-color: #3B4455;\n",
              "      fill: #D2E3FC;\n",
              "    }\n",
              "\n",
              "    [theme=dark] .colab-df-convert:hover {\n",
              "      background-color: #434B5C;\n",
              "      box-shadow: 0px 1px 3px 1px rgba(0, 0, 0, 0.15);\n",
              "      filter: drop-shadow(0px 1px 2px rgba(0, 0, 0, 0.3));\n",
              "      fill: #FFFFFF;\n",
              "    }\n",
              "  </style>\n",
              "\n",
              "    <script>\n",
              "      const buttonEl =\n",
              "        document.querySelector('#df-bc11eac8-cce9-40c6-872b-ba32e8e697e1 button.colab-df-convert');\n",
              "      buttonEl.style.display =\n",
              "        google.colab.kernel.accessAllowed ? 'block' : 'none';\n",
              "\n",
              "      async function convertToInteractive(key) {\n",
              "        const element = document.querySelector('#df-bc11eac8-cce9-40c6-872b-ba32e8e697e1');\n",
              "        const dataTable =\n",
              "          await google.colab.kernel.invokeFunction('convertToInteractive',\n",
              "                                                    [key], {});\n",
              "        if (!dataTable) return;\n",
              "\n",
              "        const docLinkHtml = 'Like what you see? Visit the ' +\n",
              "          '<a target=\"_blank\" href=https://colab.research.google.com/notebooks/data_table.ipynb>data table notebook</a>'\n",
              "          + ' to learn more about interactive tables.';\n",
              "        element.innerHTML = '';\n",
              "        dataTable['output_type'] = 'display_data';\n",
              "        await google.colab.output.renderOutput(dataTable, element);\n",
              "        const docLink = document.createElement('div');\n",
              "        docLink.innerHTML = docLinkHtml;\n",
              "        element.appendChild(docLink);\n",
              "      }\n",
              "    </script>\n",
              "  </div>\n",
              "\n",
              "\n",
              "<div id=\"df-b5bac007-8779-4261-8dcf-bd8c770d83d0\">\n",
              "  <button class=\"colab-df-quickchart\" onclick=\"quickchart('df-b5bac007-8779-4261-8dcf-bd8c770d83d0')\"\n",
              "            title=\"Suggest charts\"\n",
              "            style=\"display:none;\">\n",
              "\n",
              "<svg xmlns=\"http://www.w3.org/2000/svg\" height=\"24px\"viewBox=\"0 0 24 24\"\n",
              "     width=\"24px\">\n",
              "    <g>\n",
              "        <path d=\"M19 3H5c-1.1 0-2 .9-2 2v14c0 1.1.9 2 2 2h14c1.1 0 2-.9 2-2V5c0-1.1-.9-2-2-2zM9 17H7v-7h2v7zm4 0h-2V7h2v10zm4 0h-2v-4h2v4z\"/>\n",
              "    </g>\n",
              "</svg>\n",
              "  </button>\n",
              "\n",
              "<style>\n",
              "  .colab-df-quickchart {\n",
              "      --bg-color: #E8F0FE;\n",
              "      --fill-color: #1967D2;\n",
              "      --hover-bg-color: #E2EBFA;\n",
              "      --hover-fill-color: #174EA6;\n",
              "      --disabled-fill-color: #AAA;\n",
              "      --disabled-bg-color: #DDD;\n",
              "  }\n",
              "\n",
              "  [theme=dark] .colab-df-quickchart {\n",
              "      --bg-color: #3B4455;\n",
              "      --fill-color: #D2E3FC;\n",
              "      --hover-bg-color: #434B5C;\n",
              "      --hover-fill-color: #FFFFFF;\n",
              "      --disabled-bg-color: #3B4455;\n",
              "      --disabled-fill-color: #666;\n",
              "  }\n",
              "\n",
              "  .colab-df-quickchart {\n",
              "    background-color: var(--bg-color);\n",
              "    border: none;\n",
              "    border-radius: 50%;\n",
              "    cursor: pointer;\n",
              "    display: none;\n",
              "    fill: var(--fill-color);\n",
              "    height: 32px;\n",
              "    padding: 0;\n",
              "    width: 32px;\n",
              "  }\n",
              "\n",
              "  .colab-df-quickchart:hover {\n",
              "    background-color: var(--hover-bg-color);\n",
              "    box-shadow: 0 1px 2px rgba(60, 64, 67, 0.3), 0 1px 3px 1px rgba(60, 64, 67, 0.15);\n",
              "    fill: var(--button-hover-fill-color);\n",
              "  }\n",
              "\n",
              "  .colab-df-quickchart-complete:disabled,\n",
              "  .colab-df-quickchart-complete:disabled:hover {\n",
              "    background-color: var(--disabled-bg-color);\n",
              "    fill: var(--disabled-fill-color);\n",
              "    box-shadow: none;\n",
              "  }\n",
              "\n",
              "  .colab-df-spinner {\n",
              "    border: 2px solid var(--fill-color);\n",
              "    border-color: transparent;\n",
              "    border-bottom-color: var(--fill-color);\n",
              "    animation:\n",
              "      spin 1s steps(1) infinite;\n",
              "  }\n",
              "\n",
              "  @keyframes spin {\n",
              "    0% {\n",
              "      border-color: transparent;\n",
              "      border-bottom-color: var(--fill-color);\n",
              "      border-left-color: var(--fill-color);\n",
              "    }\n",
              "    20% {\n",
              "      border-color: transparent;\n",
              "      border-left-color: var(--fill-color);\n",
              "      border-top-color: var(--fill-color);\n",
              "    }\n",
              "    30% {\n",
              "      border-color: transparent;\n",
              "      border-left-color: var(--fill-color);\n",
              "      border-top-color: var(--fill-color);\n",
              "      border-right-color: var(--fill-color);\n",
              "    }\n",
              "    40% {\n",
              "      border-color: transparent;\n",
              "      border-right-color: var(--fill-color);\n",
              "      border-top-color: var(--fill-color);\n",
              "    }\n",
              "    60% {\n",
              "      border-color: transparent;\n",
              "      border-right-color: var(--fill-color);\n",
              "    }\n",
              "    80% {\n",
              "      border-color: transparent;\n",
              "      border-right-color: var(--fill-color);\n",
              "      border-bottom-color: var(--fill-color);\n",
              "    }\n",
              "    90% {\n",
              "      border-color: transparent;\n",
              "      border-bottom-color: var(--fill-color);\n",
              "    }\n",
              "  }\n",
              "</style>\n",
              "\n",
              "  <script>\n",
              "    async function quickchart(key) {\n",
              "      const quickchartButtonEl =\n",
              "        document.querySelector('#' + key + ' button');\n",
              "      quickchartButtonEl.disabled = true;  // To prevent multiple clicks.\n",
              "      quickchartButtonEl.classList.add('colab-df-spinner');\n",
              "      try {\n",
              "        const charts = await google.colab.kernel.invokeFunction(\n",
              "            'suggestCharts', [key], {});\n",
              "      } catch (error) {\n",
              "        console.error('Error during call to suggestCharts:', error);\n",
              "      }\n",
              "      quickchartButtonEl.classList.remove('colab-df-spinner');\n",
              "      quickchartButtonEl.classList.add('colab-df-quickchart-complete');\n",
              "    }\n",
              "    (() => {\n",
              "      let quickchartButtonEl =\n",
              "        document.querySelector('#df-b5bac007-8779-4261-8dcf-bd8c770d83d0 button');\n",
              "      quickchartButtonEl.style.display =\n",
              "        google.colab.kernel.accessAllowed ? 'block' : 'none';\n",
              "    })();\n",
              "  </script>\n",
              "</div>\n",
              "\n",
              "    </div>\n",
              "  </div>\n"
            ],
            "application/vnd.google.colaboratory.intrinsic+json": {
              "type": "dataframe",
              "repr_error": "0"
            }
          },
          "metadata": {},
          "execution_count": 24
        }
      ]
    },
    {
      "cell_type": "markdown",
      "source": [
        "#  CSV 파일로 저장"
      ],
      "metadata": {
        "id": "dhFe3C6NovPw"
      }
    },
    {
      "cell_type": "code",
      "source": [
        "news_df.to_csv('article.csv')\n",
        "print('CSV 파일 저장 완료')"
      ],
      "metadata": {
        "id": "-DgMzvcqoxUA",
        "colab": {
          "base_uri": "https://localhost:8080/"
        },
        "outputId": "aa496989-dc53-4915-c76e-8890106b55d3"
      },
      "execution_count": 25,
      "outputs": [
        {
          "output_type": "stream",
          "name": "stdout",
          "text": [
            "CSV 파일 저장 완료\n"
          ]
        }
      ]
    }
  ]
}
