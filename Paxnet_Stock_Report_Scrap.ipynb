{
  "nbformat": 4,
  "nbformat_minor": 0,
  "metadata": {
    "colab": {
      "provenance": [],
      "authorship_tag": "ABX9TyOmKtgnDPBXd6Hz9zOJzwAs",
      "include_colab_link": true
    },
    "kernelspec": {
      "name": "python3",
      "display_name": "Python 3"
    },
    "language_info": {
      "name": "python"
    }
  },
  "cells": [
    {
      "cell_type": "markdown",
      "metadata": {
        "id": "view-in-github",
        "colab_type": "text"
      },
      "source": [
        "<a href=\"https://colab.research.google.com/github/Clinda02/financial_data_analysis/blob/main/Paxnet_StockReport_Scrap.ipynb\" target=\"_parent\"><img src=\"https://colab.research.google.com/assets/colab-badge.svg\" alt=\"Open In Colab\"/></a>"
      ]
    },
    {
      "cell_type": "markdown",
      "source": [
        "# 개요\n",
        "\n",
        "## 증권사 리포트 크롤링\n",
        "- Paxnet의 증권사리포트의 `종목리포트` 10페이지를 수집하여 데이터 프레임 생성하고, 데이터 프레임을 `report.csv`로 저장\n",
        "* 사이트 주소 : https://www.paxnet.co.kr/stock/report/report?wlog_rpt=jm&menuCode=2222\n"
      ],
      "metadata": {
        "id": "sxxlhBufyOlI"
      }
    },
    {
      "cell_type": "markdown",
      "source": [
        "\n",
        "**증권사 리포트의 종목리포트 탭**\n",
        "* `https://www.paxnet.co.kr/stock/report/report?menuCode=2222&currentPageNo=2&reportId=0&searchKey=stock&searchValue=`\n",
        "*  페이지네이션이 되어 있고, 페이지 변경시, currentPageNo가 변경됨.\n",
        "\n",
        "**데이터프레임의 구조**\n",
        "* `종목명, 제목, 적정가격, 투자의견, 제공출처, 작성일` 6개의 칼럼으로 구성"
      ],
      "metadata": {
        "id": "P49Yy90C1_KQ"
      }
    },
    {
      "cell_type": "markdown",
      "source": [
        "#  HTML request로 받아오기"
      ],
      "metadata": {
        "id": "9NdstKMpIqTp"
      }
    },
    {
      "cell_type": "code",
      "source": [
        "import requests\n",
        "from bs4 import BeautifulSoup\n",
        "import pandas as pd\n",
        "import time"
      ],
      "metadata": {
        "id": "lTVNnvuuBe98"
      },
      "execution_count": 1,
      "outputs": []
    },
    {
      "cell_type": "code",
      "source": [
        "# Paxnet페이지 request 호출\n",
        "url = \"https://www.paxnet.co.kr/stock/report/report?menuCode=2222\"\n",
        "response = requests.get(url)\n",
        "\n",
        "# 종목 리포트 수집\n",
        "soup = BeautifulSoup(response.text, 'lxml')"
      ],
      "metadata": {
        "collapsed": true,
        "id": "uV1wgvX5ItT_"
      },
      "execution_count": 2,
      "outputs": []
    },
    {
      "cell_type": "markdown",
      "source": [
        "# bs4로 파싱\n",
        "- 전체 표 : `<div class =\"board-type\">`\n",
        "- 리스트 아이템 : `<li>`"
      ],
      "metadata": {
        "id": "mdj7vxTJIqDj"
      }
    },
    {
      "cell_type": "code",
      "source": [
        "# 전체 표\n",
        "table = soup.find('div', {'class' :'board-type'})"
      ],
      "metadata": {
        "id": "kqughrQVKVL6"
      },
      "execution_count": 3,
      "outputs": []
    },
    {
      "cell_type": "code",
      "source": [
        "#리스트 아이템\n",
        "list_items = table.find_all('li')"
      ],
      "metadata": {
        "id": "M__YHpSeKoOj"
      },
      "execution_count": 4,
      "outputs": []
    },
    {
      "cell_type": "code",
      "source": [
        "#리스트 아이템의 첫번째 값 : 컬럼명\n",
        "list_items[0]"
      ],
      "metadata": {
        "colab": {
          "base_uri": "https://localhost:8080/"
        },
        "id": "pLh7Vhx8K6gx",
        "outputId": "fbc6fc6f-7489-46d1-f52c-4f38441d58fd"
      },
      "execution_count": 5,
      "outputs": [
        {
          "output_type": "execute_result",
          "data": {
            "text/plain": [
              "<li class=\"board-list-th\">\n",
              "<div>종목</div>\n",
              "<div>제목</div>\n",
              "<div class=\"right\">적정가격</div>\n",
              "<div>투자의견</div>\n",
              "<div>제공출처</div>\n",
              "<div class=\"cent\">작성일</div>\n",
              "</li>"
            ]
          },
          "metadata": {},
          "execution_count": 5
        }
      ]
    },
    {
      "cell_type": "code",
      "source": [
        "#리스트 아이템의 두번째 값\n",
        "list_items[1]"
      ],
      "metadata": {
        "colab": {
          "base_uri": "https://localhost:8080/"
        },
        "id": "rd0pR439K6bO",
        "outputId": "f8d6062b-f9c9-4e3d-e189-c18b97bb4d39"
      },
      "execution_count": 6,
      "outputs": [
        {
          "output_type": "execute_result",
          "data": {
            "text/plain": [
              "<li>\n",
              "<div><strong class=\"color-cate\"><span class=\"bracket\">[</span><a href=\"http://www.paxnet.co.kr/stock/analysis/main?wlog_rpt=list_jm&amp;abbrSymbol=069960\">현대백화점</a><span class=\"bracket\">]</span></strong></div>\n",
              "<div>\n",
              "<p>\n",
              "<a href=\"javascript:selectView('146055');\">3Q24 Preview: 지누스 기대감 솔솔</a>\n",
              "</p>\n",
              "</div>\n",
              "<div class=\"line3\">\n",
              "<span>적정가격</span>\n",
              "\t \t\t\t\t\t\t\t\t\n",
              "\t\t\t\t\t\t\t\t\t\t\n",
              "\t\t\t\t\t\t\t\t\t\t\t65,000원\n",
              "\t\t\t\t\t\t\t\t\t\t\n",
              "\t\t\t\t\t\t\t\t\t\t\n",
              "\t\t\t\t\t\t\t\t\t\n",
              "\t\t\t\t\t\t\t\t</div>\n",
              "<div class=\"line3 color-red\">\n",
              "\t\t\t\t\t\t\t\t\t매수\n",
              "\t\t\t\t\t\t\t\t</div>\n",
              "<div class=\"line3\">유진투자증권</div>\n",
              "<div class=\"line3\">2024.10.31</div>\n",
              "</li>"
            ]
          },
          "metadata": {},
          "execution_count": 6
        }
      ]
    },
    {
      "cell_type": "code",
      "source": [
        "#리스트 아이템의 가장 마지막 값\n",
        "list_items[-5]"
      ],
      "metadata": {
        "colab": {
          "base_uri": "https://localhost:8080/"
        },
        "id": "bHrNOvn7K6Re",
        "outputId": "c7aec22b-041f-4165-e78f-a9dfc6dd5b19"
      },
      "execution_count": 7,
      "outputs": [
        {
          "output_type": "execute_result",
          "data": {
            "text/plain": [
              "<li class=\"on\"><a href=\"#\">1</a></li>"
            ]
          },
          "metadata": {},
          "execution_count": 7
        }
      ]
    },
    {
      "cell_type": "code",
      "source": [
        "# 종목명\n",
        "list_items[1].find_all('a')[0].text"
      ],
      "metadata": {
        "colab": {
          "base_uri": "https://localhost:8080/",
          "height": 35
        },
        "id": "X35rOX7YLpZ9",
        "outputId": "3fe209d2-97db-428c-ee85-df2a3300eeb0"
      },
      "execution_count": 8,
      "outputs": [
        {
          "output_type": "execute_result",
          "data": {
            "text/plain": [
              "'현대백화점'"
            ],
            "application/vnd.google.colaboratory.intrinsic+json": {
              "type": "string"
            }
          },
          "metadata": {},
          "execution_count": 8
        }
      ]
    },
    {
      "cell_type": "code",
      "source": [
        "# 리포트 제목\n",
        "list_items[1].find_all('a')[1].text"
      ],
      "metadata": {
        "colab": {
          "base_uri": "https://localhost:8080/",
          "height": 35
        },
        "id": "p8jA3IZMLOWv",
        "outputId": "10c7bae8-f436-4b1f-fcb3-2049c63b898c"
      },
      "execution_count": 9,
      "outputs": [
        {
          "output_type": "execute_result",
          "data": {
            "text/plain": [
              "'3Q24 Preview: 지누스 기대감 솔솔'"
            ],
            "application/vnd.google.colaboratory.intrinsic+json": {
              "type": "string"
            }
          },
          "metadata": {},
          "execution_count": 9
        }
      ]
    },
    {
      "cell_type": "code",
      "source": [
        "# 적정가격 <div class =\"line3\">\n",
        "list_items[1].find('div', {'class': 'line3'}).text.strip()"
      ],
      "metadata": {
        "colab": {
          "base_uri": "https://localhost:8080/",
          "height": 35
        },
        "id": "T2ZlrQI-y4Ag",
        "outputId": "7b3e136d-3c9b-40f6-b405-ed3b17759e42"
      },
      "execution_count": 10,
      "outputs": [
        {
          "output_type": "execute_result",
          "data": {
            "text/plain": [
              "'적정가격\\r\\n\\t \\t\\t\\t\\t\\t\\t\\t\\t\\r\\n\\t\\t\\t\\t\\t\\t\\t\\t\\t\\t\\r\\n\\t\\t\\t\\t\\t\\t\\t\\t\\t\\t\\t65,000원'"
            ],
            "application/vnd.google.colaboratory.intrinsic+json": {
              "type": "string"
            }
          },
          "metadata": {},
          "execution_count": 10
        }
      ]
    },
    {
      "cell_type": "code",
      "source": [
        "# 적정가격 전처리\n",
        "list_items[1].find_all('div', {'class':'line3'})[0].text.replace('적정가격','').strip()"
      ],
      "metadata": {
        "colab": {
          "base_uri": "https://localhost:8080/",
          "height": 35
        },
        "id": "bamkzsjhLOa7",
        "outputId": "60f08a0f-d358-4e48-a4ca-bfa85d9ad854"
      },
      "execution_count": 11,
      "outputs": [
        {
          "output_type": "execute_result",
          "data": {
            "text/plain": [
              "'65,000원'"
            ],
            "application/vnd.google.colaboratory.intrinsic+json": {
              "type": "string"
            }
          },
          "metadata": {},
          "execution_count": 11
        }
      ]
    },
    {
      "cell_type": "code",
      "source": [
        "# 투자의견 <div class=\"line3 color-red\">\n",
        "list_items[1].find_all('div', {'class':'line3'})[1].text.strip()"
      ],
      "metadata": {
        "colab": {
          "base_uri": "https://localhost:8080/",
          "height": 35
        },
        "id": "nUK1NRosLOgg",
        "outputId": "1b7166f8-07c4-4fd8-8fa6-b3943abfd3bd"
      },
      "execution_count": 12,
      "outputs": [
        {
          "output_type": "execute_result",
          "data": {
            "text/plain": [
              "'매수'"
            ],
            "application/vnd.google.colaboratory.intrinsic+json": {
              "type": "string"
            }
          },
          "metadata": {},
          "execution_count": 12
        }
      ]
    },
    {
      "cell_type": "code",
      "source": [
        "# 제공출처 <div class=\"line3\">LS증권</div>\n",
        "\n",
        "list_items[1].find_all('div', {'class':'line3'})[2].text"
      ],
      "metadata": {
        "colab": {
          "base_uri": "https://localhost:8080/",
          "height": 35
        },
        "id": "mkkke9OBLOva",
        "outputId": "e9556e4b-ff34-415a-900b-e6075f2f3965"
      },
      "execution_count": 13,
      "outputs": [
        {
          "output_type": "execute_result",
          "data": {
            "text/plain": [
              "'유진투자증권'"
            ],
            "application/vnd.google.colaboratory.intrinsic+json": {
              "type": "string"
            }
          },
          "metadata": {},
          "execution_count": 13
        }
      ]
    },
    {
      "cell_type": "code",
      "source": [
        "# 작성일 <div class=\"line3\">2024.10.28</div>\n",
        "list_items[1].find_all('div', {'class':'line3'})[3].text"
      ],
      "metadata": {
        "colab": {
          "base_uri": "https://localhost:8080/",
          "height": 35
        },
        "id": "v73G7B09LO2R",
        "outputId": "2915a270-6c22-4125-df64-0be6b73e4d74"
      },
      "execution_count": 14,
      "outputs": [
        {
          "output_type": "execute_result",
          "data": {
            "text/plain": [
              "'2024.10.31'"
            ],
            "application/vnd.google.colaboratory.intrinsic+json": {
              "type": "string"
            }
          },
          "metadata": {},
          "execution_count": 14
        }
      ]
    },
    {
      "cell_type": "code",
      "execution_count": 15,
      "metadata": {
        "colab": {
          "base_uri": "https://localhost:8080/"
        },
        "id": "oERu3n6LIo1-",
        "outputId": "9df09062-ad55-4b24-eb9b-d1ac20e880d8"
      },
      "outputs": [
        {
          "output_type": "stream",
          "name": "stdout",
          "text": [
            "종목명 : 현대백화점\n",
            "제목 : 3Q24 Preview: 지누스 기대감 솔솔\n",
            "적정가격 : 65,000원\n",
            "투자의견 : 매수\n",
            "제공출처 : 유진투자증권\n",
            "작성일 : 2024.10.31\n"
          ]
        }
      ],
      "source": [
        "table = soup.find('div',{'class':'board-type'})\n",
        "list_items = table.find_all('li')\n",
        "\n",
        "print(f\"종목명 : {list_items[1].find_all('a')[0].text}\")\n",
        "print(f\"제목 : {list_items[1].find_all('a')[1].text}\")\n",
        "print(f\"적정가격 : {list_items[1].find_all('div', {'class' :'line3'})[0].text.replace('적정가격','').strip()}\")\n",
        "print(f\"투자의견 : {list_items[1].find('div', {'class' :'line3 color-red'}).text.strip()}\")\n",
        "print(f\"제공출처 : {list_items[1].find_all('div', {'class' :'line3'})[2].text.strip()}\")\n",
        "print(f\"작성일 : {list_items[1].find_all('div', {'class' :'line3'})[3].text.strip()}\")"
      ]
    },
    {
      "cell_type": "markdown",
      "source": [
        "# 페이지네이션을 고려한 반복문 생성"
      ],
      "metadata": {
        "id": "LUGEq_95IwDc"
      }
    },
    {
      "cell_type": "code",
      "source": [
        "def stock_reports(li):\n",
        "  table = li.find('div', {'class' :'board-type'})\n",
        "  list_items = table.find_all('li')\n",
        "  report_count = len(list_items)\n",
        "\n",
        "  # 빈 리스트 생성\n",
        "  stock_name_list = []\n",
        "  title_list = []\n",
        "  price_list = []\n",
        "  opinion_list = []\n",
        "  trading_firm_list = []\n",
        "  date_list = []\n",
        "\n",
        "  for i in range(1,report_count-5):\n",
        "    stock_name = list_items[i].find_all('a')[0].text  # 종목명\n",
        "    title = list_items[i].find_all('a')[1].text  # 리포트 제목\n",
        "    price = list_items[i].find_all('div', {'class':'line3'})[0].text.replace('적정가격','').strip()  # 적정가격\n",
        "    opinion = list_items[i].find_all('div', {'class':'line3'})[1].text.strip()  # 투자의견\n",
        "    trading_firm = list_items[i].find_all('div', {'class':'line3'})[2].text  # 제공출처\n",
        "    date = list_items[i].find_all('div', {'class':'line3'})[3].text  # 작성일\n",
        "\n",
        "    stock_name_list.append(stock_name)\n",
        "    title_list.append(title)\n",
        "    price_list.append(price)\n",
        "    opinion_list.append(opinion)\n",
        "    trading_firm_list.append(trading_firm)\n",
        "    date_list.append(date)\n",
        "\n",
        "  df = pd.DataFrame({\n",
        "        '종목명' : stock_name_list\n",
        "        , '제목' : title_list\n",
        "        , '적정가격' : price_list\n",
        "        , '투자의견' : opinion_list\n",
        "        , '제공출처' : trading_firm_list\n",
        "        , '작성일' :date_list})\n",
        "\n",
        "  return df"
      ],
      "metadata": {
        "id": "n3RAoSDPOMTH"
      },
      "execution_count": 16,
      "outputs": []
    },
    {
      "cell_type": "markdown",
      "source": [
        "## 여러 페이지의 정보 가져오기\n"
      ],
      "metadata": {
        "id": "7pxGL5XQzHI0"
      }
    },
    {
      "cell_type": "code",
      "source": [
        "# 전체 리포트 저장할 데이터프레임 생성\n",
        "reports_all = pd.DataFrame()\n",
        "\n",
        "for page_num in range(1,11): # range(1, n+1) : 1부터 n까지\n",
        "  url = f\"https://www.paxnet.co.kr/stock/report/report?menuCode=2222&currentPageNo={page_num}&reportId=0&searchKey=stock&searchValue=\"\n",
        "  response = requests.get(url)\n",
        "  soup = BeautifulSoup(response.text, 'lxml')\n",
        "\n",
        "  reports_all = pd.concat([reports_all, stock_reports(soup)], ignore_index=True)\n",
        "\n",
        "  # 1초 대기 후 페이지 request 요청\n",
        "  time.sleep(1)"
      ],
      "metadata": {
        "id": "aO_ErMhmOMHr"
      },
      "execution_count": 17,
      "outputs": []
    },
    {
      "cell_type": "code",
      "source": [
        "reports_all.head(2)"
      ],
      "metadata": {
        "colab": {
          "base_uri": "https://localhost:8080/",
          "height": 112
        },
        "id": "dSmNKSlL8t_y",
        "outputId": "bee7b5e7-b083-47f4-cf41-57ad51b15ffc"
      },
      "execution_count": 18,
      "outputs": [
        {
          "output_type": "execute_result",
          "data": {
            "text/plain": [
              "     종목명                        제목     적정가격 투자의견    제공출처         작성일\n",
              "0  현대백화점  3Q24 Preview: 지누스 기대감 솔솔  65,000원   매수  유진투자증권  2024.10.31\n",
              "1  한화솔루션                  서서히 회복 중  30,000원   매수  유진투자증권  2024.10.31"
            ],
            "text/html": [
              "\n",
              "  <div id=\"df-f2e532c0-b047-4df9-8f1e-fc1ad85491f8\" class=\"colab-df-container\">\n",
              "    <div>\n",
              "<style scoped>\n",
              "    .dataframe tbody tr th:only-of-type {\n",
              "        vertical-align: middle;\n",
              "    }\n",
              "\n",
              "    .dataframe tbody tr th {\n",
              "        vertical-align: top;\n",
              "    }\n",
              "\n",
              "    .dataframe thead th {\n",
              "        text-align: right;\n",
              "    }\n",
              "</style>\n",
              "<table border=\"1\" class=\"dataframe\">\n",
              "  <thead>\n",
              "    <tr style=\"text-align: right;\">\n",
              "      <th></th>\n",
              "      <th>종목명</th>\n",
              "      <th>제목</th>\n",
              "      <th>적정가격</th>\n",
              "      <th>투자의견</th>\n",
              "      <th>제공출처</th>\n",
              "      <th>작성일</th>\n",
              "    </tr>\n",
              "  </thead>\n",
              "  <tbody>\n",
              "    <tr>\n",
              "      <th>0</th>\n",
              "      <td>현대백화점</td>\n",
              "      <td>3Q24 Preview: 지누스 기대감 솔솔</td>\n",
              "      <td>65,000원</td>\n",
              "      <td>매수</td>\n",
              "      <td>유진투자증권</td>\n",
              "      <td>2024.10.31</td>\n",
              "    </tr>\n",
              "    <tr>\n",
              "      <th>1</th>\n",
              "      <td>한화솔루션</td>\n",
              "      <td>서서히 회복 중</td>\n",
              "      <td>30,000원</td>\n",
              "      <td>매수</td>\n",
              "      <td>유진투자증권</td>\n",
              "      <td>2024.10.31</td>\n",
              "    </tr>\n",
              "  </tbody>\n",
              "</table>\n",
              "</div>\n",
              "    <div class=\"colab-df-buttons\">\n",
              "\n",
              "  <div class=\"colab-df-container\">\n",
              "    <button class=\"colab-df-convert\" onclick=\"convertToInteractive('df-f2e532c0-b047-4df9-8f1e-fc1ad85491f8')\"\n",
              "            title=\"Convert this dataframe to an interactive table.\"\n",
              "            style=\"display:none;\">\n",
              "\n",
              "  <svg xmlns=\"http://www.w3.org/2000/svg\" height=\"24px\" viewBox=\"0 -960 960 960\">\n",
              "    <path d=\"M120-120v-720h720v720H120Zm60-500h600v-160H180v160Zm220 220h160v-160H400v160Zm0 220h160v-160H400v160ZM180-400h160v-160H180v160Zm440 0h160v-160H620v160ZM180-180h160v-160H180v160Zm440 0h160v-160H620v160Z\"/>\n",
              "  </svg>\n",
              "    </button>\n",
              "\n",
              "  <style>\n",
              "    .colab-df-container {\n",
              "      display:flex;\n",
              "      gap: 12px;\n",
              "    }\n",
              "\n",
              "    .colab-df-convert {\n",
              "      background-color: #E8F0FE;\n",
              "      border: none;\n",
              "      border-radius: 50%;\n",
              "      cursor: pointer;\n",
              "      display: none;\n",
              "      fill: #1967D2;\n",
              "      height: 32px;\n",
              "      padding: 0 0 0 0;\n",
              "      width: 32px;\n",
              "    }\n",
              "\n",
              "    .colab-df-convert:hover {\n",
              "      background-color: #E2EBFA;\n",
              "      box-shadow: 0px 1px 2px rgba(60, 64, 67, 0.3), 0px 1px 3px 1px rgba(60, 64, 67, 0.15);\n",
              "      fill: #174EA6;\n",
              "    }\n",
              "\n",
              "    .colab-df-buttons div {\n",
              "      margin-bottom: 4px;\n",
              "    }\n",
              "\n",
              "    [theme=dark] .colab-df-convert {\n",
              "      background-color: #3B4455;\n",
              "      fill: #D2E3FC;\n",
              "    }\n",
              "\n",
              "    [theme=dark] .colab-df-convert:hover {\n",
              "      background-color: #434B5C;\n",
              "      box-shadow: 0px 1px 3px 1px rgba(0, 0, 0, 0.15);\n",
              "      filter: drop-shadow(0px 1px 2px rgba(0, 0, 0, 0.3));\n",
              "      fill: #FFFFFF;\n",
              "    }\n",
              "  </style>\n",
              "\n",
              "    <script>\n",
              "      const buttonEl =\n",
              "        document.querySelector('#df-f2e532c0-b047-4df9-8f1e-fc1ad85491f8 button.colab-df-convert');\n",
              "      buttonEl.style.display =\n",
              "        google.colab.kernel.accessAllowed ? 'block' : 'none';\n",
              "\n",
              "      async function convertToInteractive(key) {\n",
              "        const element = document.querySelector('#df-f2e532c0-b047-4df9-8f1e-fc1ad85491f8');\n",
              "        const dataTable =\n",
              "          await google.colab.kernel.invokeFunction('convertToInteractive',\n",
              "                                                    [key], {});\n",
              "        if (!dataTable) return;\n",
              "\n",
              "        const docLinkHtml = 'Like what you see? Visit the ' +\n",
              "          '<a target=\"_blank\" href=https://colab.research.google.com/notebooks/data_table.ipynb>data table notebook</a>'\n",
              "          + ' to learn more about interactive tables.';\n",
              "        element.innerHTML = '';\n",
              "        dataTable['output_type'] = 'display_data';\n",
              "        await google.colab.output.renderOutput(dataTable, element);\n",
              "        const docLink = document.createElement('div');\n",
              "        docLink.innerHTML = docLinkHtml;\n",
              "        element.appendChild(docLink);\n",
              "      }\n",
              "    </script>\n",
              "  </div>\n",
              "\n",
              "\n",
              "<div id=\"df-a1665f6f-e976-4141-bed0-d3dc75d47dee\">\n",
              "  <button class=\"colab-df-quickchart\" onclick=\"quickchart('df-a1665f6f-e976-4141-bed0-d3dc75d47dee')\"\n",
              "            title=\"Suggest charts\"\n",
              "            style=\"display:none;\">\n",
              "\n",
              "<svg xmlns=\"http://www.w3.org/2000/svg\" height=\"24px\"viewBox=\"0 0 24 24\"\n",
              "     width=\"24px\">\n",
              "    <g>\n",
              "        <path d=\"M19 3H5c-1.1 0-2 .9-2 2v14c0 1.1.9 2 2 2h14c1.1 0 2-.9 2-2V5c0-1.1-.9-2-2-2zM9 17H7v-7h2v7zm4 0h-2V7h2v10zm4 0h-2v-4h2v4z\"/>\n",
              "    </g>\n",
              "</svg>\n",
              "  </button>\n",
              "\n",
              "<style>\n",
              "  .colab-df-quickchart {\n",
              "      --bg-color: #E8F0FE;\n",
              "      --fill-color: #1967D2;\n",
              "      --hover-bg-color: #E2EBFA;\n",
              "      --hover-fill-color: #174EA6;\n",
              "      --disabled-fill-color: #AAA;\n",
              "      --disabled-bg-color: #DDD;\n",
              "  }\n",
              "\n",
              "  [theme=dark] .colab-df-quickchart {\n",
              "      --bg-color: #3B4455;\n",
              "      --fill-color: #D2E3FC;\n",
              "      --hover-bg-color: #434B5C;\n",
              "      --hover-fill-color: #FFFFFF;\n",
              "      --disabled-bg-color: #3B4455;\n",
              "      --disabled-fill-color: #666;\n",
              "  }\n",
              "\n",
              "  .colab-df-quickchart {\n",
              "    background-color: var(--bg-color);\n",
              "    border: none;\n",
              "    border-radius: 50%;\n",
              "    cursor: pointer;\n",
              "    display: none;\n",
              "    fill: var(--fill-color);\n",
              "    height: 32px;\n",
              "    padding: 0;\n",
              "    width: 32px;\n",
              "  }\n",
              "\n",
              "  .colab-df-quickchart:hover {\n",
              "    background-color: var(--hover-bg-color);\n",
              "    box-shadow: 0 1px 2px rgba(60, 64, 67, 0.3), 0 1px 3px 1px rgba(60, 64, 67, 0.15);\n",
              "    fill: var(--button-hover-fill-color);\n",
              "  }\n",
              "\n",
              "  .colab-df-quickchart-complete:disabled,\n",
              "  .colab-df-quickchart-complete:disabled:hover {\n",
              "    background-color: var(--disabled-bg-color);\n",
              "    fill: var(--disabled-fill-color);\n",
              "    box-shadow: none;\n",
              "  }\n",
              "\n",
              "  .colab-df-spinner {\n",
              "    border: 2px solid var(--fill-color);\n",
              "    border-color: transparent;\n",
              "    border-bottom-color: var(--fill-color);\n",
              "    animation:\n",
              "      spin 1s steps(1) infinite;\n",
              "  }\n",
              "\n",
              "  @keyframes spin {\n",
              "    0% {\n",
              "      border-color: transparent;\n",
              "      border-bottom-color: var(--fill-color);\n",
              "      border-left-color: var(--fill-color);\n",
              "    }\n",
              "    20% {\n",
              "      border-color: transparent;\n",
              "      border-left-color: var(--fill-color);\n",
              "      border-top-color: var(--fill-color);\n",
              "    }\n",
              "    30% {\n",
              "      border-color: transparent;\n",
              "      border-left-color: var(--fill-color);\n",
              "      border-top-color: var(--fill-color);\n",
              "      border-right-color: var(--fill-color);\n",
              "    }\n",
              "    40% {\n",
              "      border-color: transparent;\n",
              "      border-right-color: var(--fill-color);\n",
              "      border-top-color: var(--fill-color);\n",
              "    }\n",
              "    60% {\n",
              "      border-color: transparent;\n",
              "      border-right-color: var(--fill-color);\n",
              "    }\n",
              "    80% {\n",
              "      border-color: transparent;\n",
              "      border-right-color: var(--fill-color);\n",
              "      border-bottom-color: var(--fill-color);\n",
              "    }\n",
              "    90% {\n",
              "      border-color: transparent;\n",
              "      border-bottom-color: var(--fill-color);\n",
              "    }\n",
              "  }\n",
              "</style>\n",
              "\n",
              "  <script>\n",
              "    async function quickchart(key) {\n",
              "      const quickchartButtonEl =\n",
              "        document.querySelector('#' + key + ' button');\n",
              "      quickchartButtonEl.disabled = true;  // To prevent multiple clicks.\n",
              "      quickchartButtonEl.classList.add('colab-df-spinner');\n",
              "      try {\n",
              "        const charts = await google.colab.kernel.invokeFunction(\n",
              "            'suggestCharts', [key], {});\n",
              "      } catch (error) {\n",
              "        console.error('Error during call to suggestCharts:', error);\n",
              "      }\n",
              "      quickchartButtonEl.classList.remove('colab-df-spinner');\n",
              "      quickchartButtonEl.classList.add('colab-df-quickchart-complete');\n",
              "    }\n",
              "    (() => {\n",
              "      let quickchartButtonEl =\n",
              "        document.querySelector('#df-a1665f6f-e976-4141-bed0-d3dc75d47dee button');\n",
              "      quickchartButtonEl.style.display =\n",
              "        google.colab.kernel.accessAllowed ? 'block' : 'none';\n",
              "    })();\n",
              "  </script>\n",
              "</div>\n",
              "\n",
              "    </div>\n",
              "  </div>\n"
            ],
            "application/vnd.google.colaboratory.intrinsic+json": {
              "type": "dataframe",
              "variable_name": "reports_all",
              "summary": "{\n  \"name\": \"reports_all\",\n  \"rows\": 300,\n  \"fields\": [\n    {\n      \"column\": \"\\uc885\\ubaa9\\uba85\",\n      \"properties\": {\n        \"dtype\": \"string\",\n        \"num_unique_values\": 199,\n        \"samples\": [\n          \"\\uc5d1\\uc2dc\\ucf58\",\n          \"\\ud604\\ub300\\uc624\\ud1a0\\uc5d0\\ubc84\",\n          \"LS\"\n        ],\n        \"semantic_type\": \"\",\n        \"description\": \"\"\n      }\n    },\n    {\n      \"column\": \"\\uc81c\\ubaa9\",\n      \"properties\": {\n        \"dtype\": \"string\",\n        \"num_unique_values\": 290,\n        \"samples\": [\n          \"3Q24 Review: \\ub300\\uaddc\\ubaa8 \\uae08\\uc735\\uc790\\uc0b0 \\ud3c9 \\uac00\\uc190\\uc2e4 \\ubc1c\\uc0dd\",\n          \"\\uc62c\\ud574 4\\ubd84\\uae30 \\uc774\\ud6c4 \\uc2e0\\uc99d\\uc124 \\ud6a8\\uacfc \\ubcf8\\uaca9 \\ubc18\\uc601 \\uc804\\ub9dd\",\n          \"\\uce74\\uba54\\ub77c\\ubaa8\\ub4c8\\uc6a9 \\uc561\\ucd94\\uc5d0\\uc774\\ud130 \\uc0ac\\uc5c5\\uc5d0 \\uc9d1\\uc911\\t\"\n        ],\n        \"semantic_type\": \"\",\n        \"description\": \"\"\n      }\n    },\n    {\n      \"column\": \"\\uc801\\uc815\\uac00\\uaca9\",\n      \"properties\": {\n        \"dtype\": \"string\",\n        \"num_unique_values\": 167,\n        \"samples\": [\n          \"25,000\\uc6d0\",\n          \"400,000\\uc6d0\",\n          \"300,000\\uc6d0\"\n        ],\n        \"semantic_type\": \"\",\n        \"description\": \"\"\n      }\n    },\n    {\n      \"column\": \"\\ud22c\\uc790\\uc758\\uacac\",\n      \"properties\": {\n        \"dtype\": \"category\",\n        \"num_unique_values\": 6,\n        \"samples\": [\n          \"\\ub9e4\\uc218\",\n          \"\\ubcf4\\uc720\",\n          \"\\uc2dc\\uc7a5\\uc218\\uc775\\ub960\"\n        ],\n        \"semantic_type\": \"\",\n        \"description\": \"\"\n      }\n    },\n    {\n      \"column\": \"\\uc81c\\uacf5\\ucd9c\\ucc98\",\n      \"properties\": {\n        \"dtype\": \"category\",\n        \"num_unique_values\": 12,\n        \"samples\": [\n          \"IBK\\ud22c\\uc790\\uc99d\\uad8c\",\n          \"\\ud55c\\uc591\\uc99d\\uad8c\",\n          \"\\uc720\\uc9c4\\ud22c\\uc790\\uc99d\\uad8c\"\n        ],\n        \"semantic_type\": \"\",\n        \"description\": \"\"\n      }\n    },\n    {\n      \"column\": \"\\uc791\\uc131\\uc77c\",\n      \"properties\": {\n        \"dtype\": \"object\",\n        \"num_unique_values\": 20,\n        \"samples\": [\n          \"2024.10.31\",\n          \"2024.10.04\",\n          \"2024.10.08\"\n        ],\n        \"semantic_type\": \"\",\n        \"description\": \"\"\n      }\n    }\n  ]\n}"
            }
          },
          "metadata": {},
          "execution_count": 18
        }
      ]
    },
    {
      "cell_type": "code",
      "source": [
        "reports_all.tail(2)"
      ],
      "metadata": {
        "colab": {
          "base_uri": "https://localhost:8080/",
          "height": 112
        },
        "id": "xNSaMHZsA3_8",
        "outputId": "1467b8f3-0929-4213-aab0-c73309625e89"
      },
      "execution_count": 19,
      "outputs": [
        {
          "output_type": "execute_result",
          "data": {
            "text/plain": [
              "        종목명               제목    적정가격    투자의견  제공출처         작성일\n",
              "298  JW생명과학  빙빙 돌아가는 수액 공장처럼  15000원  매수(유지)  키움증권  2024.09.30\n",
              "299  JW중외제약     느껴지는 정상화의 흐름  39000원  매수(유지)  키움증권  2024.09.30"
            ],
            "text/html": [
              "\n",
              "  <div id=\"df-fd143500-d7c9-4bfe-a843-4aff342141ca\" class=\"colab-df-container\">\n",
              "    <div>\n",
              "<style scoped>\n",
              "    .dataframe tbody tr th:only-of-type {\n",
              "        vertical-align: middle;\n",
              "    }\n",
              "\n",
              "    .dataframe tbody tr th {\n",
              "        vertical-align: top;\n",
              "    }\n",
              "\n",
              "    .dataframe thead th {\n",
              "        text-align: right;\n",
              "    }\n",
              "</style>\n",
              "<table border=\"1\" class=\"dataframe\">\n",
              "  <thead>\n",
              "    <tr style=\"text-align: right;\">\n",
              "      <th></th>\n",
              "      <th>종목명</th>\n",
              "      <th>제목</th>\n",
              "      <th>적정가격</th>\n",
              "      <th>투자의견</th>\n",
              "      <th>제공출처</th>\n",
              "      <th>작성일</th>\n",
              "    </tr>\n",
              "  </thead>\n",
              "  <tbody>\n",
              "    <tr>\n",
              "      <th>298</th>\n",
              "      <td>JW생명과학</td>\n",
              "      <td>빙빙 돌아가는 수액 공장처럼</td>\n",
              "      <td>15000원</td>\n",
              "      <td>매수(유지)</td>\n",
              "      <td>키움증권</td>\n",
              "      <td>2024.09.30</td>\n",
              "    </tr>\n",
              "    <tr>\n",
              "      <th>299</th>\n",
              "      <td>JW중외제약</td>\n",
              "      <td>느껴지는 정상화의 흐름</td>\n",
              "      <td>39000원</td>\n",
              "      <td>매수(유지)</td>\n",
              "      <td>키움증권</td>\n",
              "      <td>2024.09.30</td>\n",
              "    </tr>\n",
              "  </tbody>\n",
              "</table>\n",
              "</div>\n",
              "    <div class=\"colab-df-buttons\">\n",
              "\n",
              "  <div class=\"colab-df-container\">\n",
              "    <button class=\"colab-df-convert\" onclick=\"convertToInteractive('df-fd143500-d7c9-4bfe-a843-4aff342141ca')\"\n",
              "            title=\"Convert this dataframe to an interactive table.\"\n",
              "            style=\"display:none;\">\n",
              "\n",
              "  <svg xmlns=\"http://www.w3.org/2000/svg\" height=\"24px\" viewBox=\"0 -960 960 960\">\n",
              "    <path d=\"M120-120v-720h720v720H120Zm60-500h600v-160H180v160Zm220 220h160v-160H400v160Zm0 220h160v-160H400v160ZM180-400h160v-160H180v160Zm440 0h160v-160H620v160ZM180-180h160v-160H180v160Zm440 0h160v-160H620v160Z\"/>\n",
              "  </svg>\n",
              "    </button>\n",
              "\n",
              "  <style>\n",
              "    .colab-df-container {\n",
              "      display:flex;\n",
              "      gap: 12px;\n",
              "    }\n",
              "\n",
              "    .colab-df-convert {\n",
              "      background-color: #E8F0FE;\n",
              "      border: none;\n",
              "      border-radius: 50%;\n",
              "      cursor: pointer;\n",
              "      display: none;\n",
              "      fill: #1967D2;\n",
              "      height: 32px;\n",
              "      padding: 0 0 0 0;\n",
              "      width: 32px;\n",
              "    }\n",
              "\n",
              "    .colab-df-convert:hover {\n",
              "      background-color: #E2EBFA;\n",
              "      box-shadow: 0px 1px 2px rgba(60, 64, 67, 0.3), 0px 1px 3px 1px rgba(60, 64, 67, 0.15);\n",
              "      fill: #174EA6;\n",
              "    }\n",
              "\n",
              "    .colab-df-buttons div {\n",
              "      margin-bottom: 4px;\n",
              "    }\n",
              "\n",
              "    [theme=dark] .colab-df-convert {\n",
              "      background-color: #3B4455;\n",
              "      fill: #D2E3FC;\n",
              "    }\n",
              "\n",
              "    [theme=dark] .colab-df-convert:hover {\n",
              "      background-color: #434B5C;\n",
              "      box-shadow: 0px 1px 3px 1px rgba(0, 0, 0, 0.15);\n",
              "      filter: drop-shadow(0px 1px 2px rgba(0, 0, 0, 0.3));\n",
              "      fill: #FFFFFF;\n",
              "    }\n",
              "  </style>\n",
              "\n",
              "    <script>\n",
              "      const buttonEl =\n",
              "        document.querySelector('#df-fd143500-d7c9-4bfe-a843-4aff342141ca button.colab-df-convert');\n",
              "      buttonEl.style.display =\n",
              "        google.colab.kernel.accessAllowed ? 'block' : 'none';\n",
              "\n",
              "      async function convertToInteractive(key) {\n",
              "        const element = document.querySelector('#df-fd143500-d7c9-4bfe-a843-4aff342141ca');\n",
              "        const dataTable =\n",
              "          await google.colab.kernel.invokeFunction('convertToInteractive',\n",
              "                                                    [key], {});\n",
              "        if (!dataTable) return;\n",
              "\n",
              "        const docLinkHtml = 'Like what you see? Visit the ' +\n",
              "          '<a target=\"_blank\" href=https://colab.research.google.com/notebooks/data_table.ipynb>data table notebook</a>'\n",
              "          + ' to learn more about interactive tables.';\n",
              "        element.innerHTML = '';\n",
              "        dataTable['output_type'] = 'display_data';\n",
              "        await google.colab.output.renderOutput(dataTable, element);\n",
              "        const docLink = document.createElement('div');\n",
              "        docLink.innerHTML = docLinkHtml;\n",
              "        element.appendChild(docLink);\n",
              "      }\n",
              "    </script>\n",
              "  </div>\n",
              "\n",
              "\n",
              "<div id=\"df-18dbb0c9-2caa-4ea8-b423-4574a630a4c3\">\n",
              "  <button class=\"colab-df-quickchart\" onclick=\"quickchart('df-18dbb0c9-2caa-4ea8-b423-4574a630a4c3')\"\n",
              "            title=\"Suggest charts\"\n",
              "            style=\"display:none;\">\n",
              "\n",
              "<svg xmlns=\"http://www.w3.org/2000/svg\" height=\"24px\"viewBox=\"0 0 24 24\"\n",
              "     width=\"24px\">\n",
              "    <g>\n",
              "        <path d=\"M19 3H5c-1.1 0-2 .9-2 2v14c0 1.1.9 2 2 2h14c1.1 0 2-.9 2-2V5c0-1.1-.9-2-2-2zM9 17H7v-7h2v7zm4 0h-2V7h2v10zm4 0h-2v-4h2v4z\"/>\n",
              "    </g>\n",
              "</svg>\n",
              "  </button>\n",
              "\n",
              "<style>\n",
              "  .colab-df-quickchart {\n",
              "      --bg-color: #E8F0FE;\n",
              "      --fill-color: #1967D2;\n",
              "      --hover-bg-color: #E2EBFA;\n",
              "      --hover-fill-color: #174EA6;\n",
              "      --disabled-fill-color: #AAA;\n",
              "      --disabled-bg-color: #DDD;\n",
              "  }\n",
              "\n",
              "  [theme=dark] .colab-df-quickchart {\n",
              "      --bg-color: #3B4455;\n",
              "      --fill-color: #D2E3FC;\n",
              "      --hover-bg-color: #434B5C;\n",
              "      --hover-fill-color: #FFFFFF;\n",
              "      --disabled-bg-color: #3B4455;\n",
              "      --disabled-fill-color: #666;\n",
              "  }\n",
              "\n",
              "  .colab-df-quickchart {\n",
              "    background-color: var(--bg-color);\n",
              "    border: none;\n",
              "    border-radius: 50%;\n",
              "    cursor: pointer;\n",
              "    display: none;\n",
              "    fill: var(--fill-color);\n",
              "    height: 32px;\n",
              "    padding: 0;\n",
              "    width: 32px;\n",
              "  }\n",
              "\n",
              "  .colab-df-quickchart:hover {\n",
              "    background-color: var(--hover-bg-color);\n",
              "    box-shadow: 0 1px 2px rgba(60, 64, 67, 0.3), 0 1px 3px 1px rgba(60, 64, 67, 0.15);\n",
              "    fill: var(--button-hover-fill-color);\n",
              "  }\n",
              "\n",
              "  .colab-df-quickchart-complete:disabled,\n",
              "  .colab-df-quickchart-complete:disabled:hover {\n",
              "    background-color: var(--disabled-bg-color);\n",
              "    fill: var(--disabled-fill-color);\n",
              "    box-shadow: none;\n",
              "  }\n",
              "\n",
              "  .colab-df-spinner {\n",
              "    border: 2px solid var(--fill-color);\n",
              "    border-color: transparent;\n",
              "    border-bottom-color: var(--fill-color);\n",
              "    animation:\n",
              "      spin 1s steps(1) infinite;\n",
              "  }\n",
              "\n",
              "  @keyframes spin {\n",
              "    0% {\n",
              "      border-color: transparent;\n",
              "      border-bottom-color: var(--fill-color);\n",
              "      border-left-color: var(--fill-color);\n",
              "    }\n",
              "    20% {\n",
              "      border-color: transparent;\n",
              "      border-left-color: var(--fill-color);\n",
              "      border-top-color: var(--fill-color);\n",
              "    }\n",
              "    30% {\n",
              "      border-color: transparent;\n",
              "      border-left-color: var(--fill-color);\n",
              "      border-top-color: var(--fill-color);\n",
              "      border-right-color: var(--fill-color);\n",
              "    }\n",
              "    40% {\n",
              "      border-color: transparent;\n",
              "      border-right-color: var(--fill-color);\n",
              "      border-top-color: var(--fill-color);\n",
              "    }\n",
              "    60% {\n",
              "      border-color: transparent;\n",
              "      border-right-color: var(--fill-color);\n",
              "    }\n",
              "    80% {\n",
              "      border-color: transparent;\n",
              "      border-right-color: var(--fill-color);\n",
              "      border-bottom-color: var(--fill-color);\n",
              "    }\n",
              "    90% {\n",
              "      border-color: transparent;\n",
              "      border-bottom-color: var(--fill-color);\n",
              "    }\n",
              "  }\n",
              "</style>\n",
              "\n",
              "  <script>\n",
              "    async function quickchart(key) {\n",
              "      const quickchartButtonEl =\n",
              "        document.querySelector('#' + key + ' button');\n",
              "      quickchartButtonEl.disabled = true;  // To prevent multiple clicks.\n",
              "      quickchartButtonEl.classList.add('colab-df-spinner');\n",
              "      try {\n",
              "        const charts = await google.colab.kernel.invokeFunction(\n",
              "            'suggestCharts', [key], {});\n",
              "      } catch (error) {\n",
              "        console.error('Error during call to suggestCharts:', error);\n",
              "      }\n",
              "      quickchartButtonEl.classList.remove('colab-df-spinner');\n",
              "      quickchartButtonEl.classList.add('colab-df-quickchart-complete');\n",
              "    }\n",
              "    (() => {\n",
              "      let quickchartButtonEl =\n",
              "        document.querySelector('#df-18dbb0c9-2caa-4ea8-b423-4574a630a4c3 button');\n",
              "      quickchartButtonEl.style.display =\n",
              "        google.colab.kernel.accessAllowed ? 'block' : 'none';\n",
              "    })();\n",
              "  </script>\n",
              "</div>\n",
              "\n",
              "    </div>\n",
              "  </div>\n"
            ],
            "application/vnd.google.colaboratory.intrinsic+json": {
              "type": "dataframe",
              "repr_error": "0"
            }
          },
          "metadata": {},
          "execution_count": 19
        }
      ]
    },
    {
      "cell_type": "markdown",
      "source": [
        "# CSV 파일로 저장"
      ],
      "metadata": {
        "id": "MuIP_MGY5wEN"
      }
    },
    {
      "cell_type": "code",
      "source": [
        "reports_all.to_csv('report.csv', index=False)\n",
        "print(\"csv 파일 저장\")"
      ],
      "metadata": {
        "colab": {
          "base_uri": "https://localhost:8080/"
        },
        "id": "Koxi4kw7OMAk",
        "outputId": "08c84706-7fea-4a43-a341-1a404c012c2c"
      },
      "execution_count": 20,
      "outputs": [
        {
          "output_type": "stream",
          "name": "stdout",
          "text": [
            "csv 파일 저장\n"
          ]
        }
      ]
    }
  ]
}
